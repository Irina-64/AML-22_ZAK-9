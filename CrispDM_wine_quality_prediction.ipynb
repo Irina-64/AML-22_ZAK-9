{
  "metadata": {
    "kernelspec": {
      "language": "python",
      "display_name": "Python 3",
      "name": "python3"
    },
    "language_info": {
      "pygments_lexer": "ipython3",
      "nbconvert_exporter": "python",
      "version": "3.6.4",
      "file_extension": ".py",
      "codemirror_mode": {
        "name": "ipython",
        "version": 3
      },
      "name": "python",
      "mimetype": "text/x-python"
    },
    "colab": {
      "name": "CrispDM_wine-quality-prediction.ipynb",
      "provenance": [],
      "include_colab_link": true
    }
  },
  "nbformat_minor": 0,
  "nbformat": 4,
  "cells": [
    {
      "cell_type": "markdown",
      "metadata": {
        "id": "view-in-github",
        "colab_type": "text"
      },
      "source": [
        "<a href=\"https://colab.research.google.com/github/Irina-64/AML-22_ZAK-9/blob/main/CrispDM_wine_quality_prediction.ipynb\" target=\"_parent\"><img src=\"https://colab.research.google.com/assets/colab-badge.svg\" alt=\"Open In Colab\"/></a>"
      ]
    },
    {
      "cell_type": "markdown",
      "source": [
        "# 1. Понимание бизнеса\n",
        "\n",
        "## 1.1 Цель\n",
        "Классифицировать португальские вина «Vinho Verde» как \"плохие\", \"нормальные\" или \"отличные\"\n",
        "\n",
        "## 1.2 Описание\n",
        "Данные были загружены из репозитория машинного обучения UCI.\n",
        "\n",
        "Два набора данных относятся к красному и белому вариантам португальского вина «Vinho Verde». Подробнее см. в ссылке [Cortez et al., 2009]. Из-за проблем с конфиденциальностью и логистикой доступны только физико-химические (входные) и органолептические (выходные) переменные (например, нет данных о сортах винограда, марке вина, продажной цене вина и т. д.).\n",
        "\n",
        "Эти наборы данных можно рассматривать как задачи классификации или регрессии. Классы упорядочены и не сбалансированы (например, нормальных вин гораздо больше, чем отличных или плохих). Алгоритмы обнаружения выбросов можно использовать для определения нескольких отличных или плохих вин.\n",
        "\n",
        "[Описание от Kaggle](https://www.kaggle.com/rajyellow46/wine-quality)"
      ],
      "metadata": {
        "id": "WpUU3sot7d3x"
      }
    },
    {
      "cell_type": "markdown",
      "source": [
        "## 2. Понимание данных"
      ],
      "metadata": {
        "id": "mw5R1YXOBWyE"
      }
    },
    {
      "cell_type": "markdown",
      "source": [
        "### 2.1. Импорт библиотек"
      ],
      "metadata": {
        "_uuid": "813c9b6a-44ab-49a7-a593-66511b636020",
        "_cell_guid": "74f36db0-d9a4-49ae-bd4a-994562d8bc71",
        "trusted": true,
        "id": "N2rMrRG8N2pP"
      }
    },
    {
      "cell_type": "code",
      "source": [
        "import pandas as pd\n",
        "import numpy as np\n",
        "\n",
        "# Modelling Algorithms\n",
        "from sklearn.tree import DecisionTreeClassifier\n",
        "from sklearn.linear_model import LogisticRegression\n",
        "from sklearn.neighbors import KNeighborsClassifier\n",
        "from sklearn.naive_bayes import GaussianNB\n",
        "from sklearn.svm import SVC, LinearSVC\n",
        "from sklearn.ensemble import RandomForestClassifier , GradientBoostingClassifier\n",
        "from sklearn.ensemble import RandomForestRegressor\n",
        "\n",
        "# Modelling Helpers\n",
        "from sklearn.impute import SimpleImputer as Imputer\n",
        "from sklearn.preprocessing import  Normalizer , scale\n",
        "from sklearn.model_selection import train_test_split , StratifiedKFold\n",
        "from sklearn.feature_selection import RFECV\n",
        "from sklearn.metrics import mean_squared_error\n",
        "from sklearn import model_selection\n",
        "from pprint import pprint\n",
        "\n",
        "# Visualisation\n",
        "import matplotlib as mpl\n",
        "import matplotlib.pyplot as plt\n",
        "import matplotlib.pylab as pylab\n",
        "import seaborn as sns\n",
        "\n",
        "# Configure visualisations\n",
        "%matplotlib inline\n",
        "mpl.style.use( 'ggplot' )\n",
        "sns.set_style( 'white' )\n",
        "pylab.rcParams[ 'figure.figsize' ] = 8 , 6"
      ],
      "metadata": {
        "_uuid": "8c648828-93c2-443a-89f6-e15f4dad4f82",
        "_cell_guid": "18d5b662-90b0-455c-b31c-e30556d24e1f",
        "jupyter": {
          "outputs_hidden": false
        },
        "execution": {
          "iopub.status.busy": "2022-02-22T19:36:37.072023Z",
          "iopub.execute_input": "2022-02-22T19:36:37.07269Z",
          "iopub.status.idle": "2022-02-22T19:36:38.48446Z",
          "shell.execute_reply.started": "2022-02-22T19:36:37.072579Z",
          "shell.execute_reply": "2022-02-22T19:36:38.48341Z"
        },
        "trusted": true,
        "id": "tuzK3e0xN2pY"
      },
      "execution_count": null,
      "outputs": []
    },
    {
      "cell_type": "markdown",
      "source": [
        "### 2.2 Вспомогательные функции"
      ],
      "metadata": {
        "id": "zlqa68gOiTDz"
      }
    },
    {
      "cell_type": "code",
      "source": [
        "def plot_histograms( df , variables , n_rows , n_cols ):\n",
        "    fig = plt.figure( figsize = ( 16 , 12 ) )\n",
        "    for i, var_name in enumerate( variables ):\n",
        "        ax=fig.add_subplot( n_rows , n_cols , i+1 )\n",
        "        df[ var_name ].hist( bins=10 , ax=ax )\n",
        "        ax.set_title( 'Skew: ' + str( round( float( df[ var_name ].skew() ) , ) ) ) # + ' ' + var_name ) #var_name+\" Distribution\")\n",
        "        ax.set_xticklabels( [] , visible=False )\n",
        "        ax.set_yticklabels( [] , visible=False )\n",
        "    fig.tight_layout()  # Improves appearance a bit.\n",
        "    plt.show()\n",
        "\n",
        "def plot_distribution( df , var , target , **kwargs ):\n",
        "    row = kwargs.get( 'row' , None )\n",
        "    col = kwargs.get( 'col' , None )\n",
        "    facet = sns.FacetGrid( df , hue=target , aspect=4 , row = row , col = col )\n",
        "    facet.map( sns.kdeplot , var , shade= True )\n",
        "    facet.set( xlim=( 0 , df[ var ].max() ) )\n",
        "    facet.add_legend()\n",
        "\n",
        "def plot_categories( df , cat , target , **kwargs ):\n",
        "    row = kwargs.get( 'row' , None )\n",
        "    col = kwargs.get( 'col' , None )\n",
        "    facet = sns.FacetGrid( df , row = row , col = col )\n",
        "    facet.map( sns.barplot , cat , target )\n",
        "    facet.add_legend()\n",
        "\n",
        "def plot_correlation_map( df ):\n",
        "    corr = df.corr()\n",
        "    _ , ax = plt.subplots( figsize =( 12 , 10 ) )\n",
        "    cmap = sns.diverging_palette( 220 , 10 , as_cmap = True )\n",
        "    _ = sns.heatmap(\n",
        "        corr, \n",
        "        cmap = cmap,\n",
        "        square=True, \n",
        "        cbar_kws={ 'shrink' : .9 }, \n",
        "        ax=ax, \n",
        "        annot = True, \n",
        "        annot_kws = { 'fontsize' : 12 }\n",
        "    )\n",
        "\n",
        "def describe_more( df ):\n",
        "    var = [] ; l = [] ; t = []\n",
        "    for x in df:\n",
        "        var.append( x )\n",
        "        l.append( len( pd.value_counts( df[ x ] ) ) )\n",
        "        t.append( df[ x ].dtypes )\n",
        "    levels = pd.DataFrame( { 'Variable' : var , 'Levels' : l , 'Datatype' : t } )\n",
        "    levels.sort_values( by = 'Levels' , inplace = True )\n",
        "    return levels\n",
        "\n",
        "def plot_variable_importance( X , y ):\n",
        "    tree = DecisionTreeClassifier( random_state = 99 )\n",
        "    tree.fit( X , y )\n",
        "    plot_model_var_imp( tree , X , y )\n",
        "    \n",
        "def plot_model_var_imp( model , X , y ):\n",
        "    imp = pd.DataFrame( \n",
        "        model.feature_importances_  , \n",
        "        columns = [ 'Importance' ] , \n",
        "        index = X.columns \n",
        "    )\n",
        "    imp = imp.sort_values( [ 'Importance' ] , ascending = True )\n",
        "    imp[ : 10 ].plot( kind = 'barh' )\n",
        "    print (model.score( X , y ))"
      ],
      "metadata": {
        "id": "ybW26F-miWlb"
      },
      "execution_count": null,
      "outputs": []
    },
    {
      "cell_type": "markdown",
      "source": [
        "### 2.3. Загрузка данных\n",
        "\n",
        "данные можно найти [здесь](https://github.com/Irina-64/AML-22_FEML-9/blob/input/winequalityN.csv)  или на гуглдрайв"
      ],
      "metadata": {
        "_uuid": "f842ccb0-b12f-44df-92e9-6e711162c2a1",
        "_cell_guid": "1849c44e-154f-4991-ba47-53f1794b78f6",
        "trusted": true,
        "id": "bwwYY0yWN2pa"
      }
    },
    {
      "cell_type": "code",
      "source": [
        "from google.colab import drive\n",
        "drive.mount('/content/drive')"
      ],
      "metadata": {
        "colab": {
          "base_uri": "https://localhost:8080/"
        },
        "id": "vBEi7t4BlmmN",
        "outputId": "06889963-4bd5-45fa-b8b4-4620baedc87e"
      },
      "execution_count": null,
      "outputs": [
        {
          "output_type": "stream",
          "name": "stdout",
          "text": [
            "Mounted at /content/drive\n"
          ]
        }
      ]
    },
    {
      "cell_type": "code",
      "source": [
        "df_wine = pd.read_csv(\"/content/drive/MyDrive/ААД/Семинары/С2_Блокноты/winequalityN.csv\")"
      ],
      "metadata": {
        "_uuid": "2f5124fe-f357-4156-a14f-6253f1191d41",
        "_cell_guid": "2b37242b-d26f-47cf-9461-ed1384ed8064",
        "jupyter": {
          "outputs_hidden": false
        },
        "execution": {
          "iopub.status.busy": "2022-02-22T19:36:38.48681Z",
          "iopub.execute_input": "2022-02-22T19:36:38.487248Z",
          "iopub.status.idle": "2022-02-22T19:36:38.52075Z",
          "shell.execute_reply.started": "2022-02-22T19:36:38.487189Z",
          "shell.execute_reply": "2022-02-22T19:36:38.519968Z"
        },
        "trusted": true,
        "id": "O1uaROH1N2pb"
      },
      "execution_count": null,
      "outputs": []
    },
    {
      "cell_type": "markdown",
      "source": [
        "### 2.4 Статистика и визуализации"
      ],
      "metadata": {
        "id": "b5t7P43Oq_yk"
      }
    },
    {
      "cell_type": "code",
      "source": [
        "df_wine.head()"
      ],
      "metadata": {
        "colab": {
          "base_uri": "https://localhost:8080/",
          "height": 268
        },
        "id": "bZeekNT6rSC2",
        "outputId": "d19fd9b2-41f2-457f-dd15-d949caa93312"
      },
      "execution_count": null,
      "outputs": [
        {
          "output_type": "execute_result",
          "data": {
            "text/plain": [
              "    type  fixed acidity  volatile acidity  citric acid  residual sugar  \\\n",
              "0  white            7.0              0.27         0.36            20.7   \n",
              "1  white            6.3              0.30         0.34             1.6   \n",
              "2  white            8.1              0.28         0.40             6.9   \n",
              "3  white            7.2              0.23         0.32             8.5   \n",
              "4  white            7.2              0.23         0.32             8.5   \n",
              "\n",
              "   chlorides  free sulfur dioxide  total sulfur dioxide  density    pH  \\\n",
              "0      0.045                 45.0                 170.0   1.0010  3.00   \n",
              "1      0.049                 14.0                 132.0   0.9940  3.30   \n",
              "2      0.050                 30.0                  97.0   0.9951  3.26   \n",
              "3      0.058                 47.0                 186.0   0.9956  3.19   \n",
              "4      0.058                 47.0                 186.0   0.9956  3.19   \n",
              "\n",
              "   sulphates  alcohol  quality  \n",
              "0       0.45      8.8        6  \n",
              "1       0.49      9.5        6  \n",
              "2       0.44     10.1        6  \n",
              "3       0.40      9.9        6  \n",
              "4       0.40      9.9        6  "
            ],
            "text/html": [
              "\n",
              "  <div id=\"df-a3335447-d89f-4916-a1f2-b9430412d224\">\n",
              "    <div class=\"colab-df-container\">\n",
              "      <div>\n",
              "<style scoped>\n",
              "    .dataframe tbody tr th:only-of-type {\n",
              "        vertical-align: middle;\n",
              "    }\n",
              "\n",
              "    .dataframe tbody tr th {\n",
              "        vertical-align: top;\n",
              "    }\n",
              "\n",
              "    .dataframe thead th {\n",
              "        text-align: right;\n",
              "    }\n",
              "</style>\n",
              "<table border=\"1\" class=\"dataframe\">\n",
              "  <thead>\n",
              "    <tr style=\"text-align: right;\">\n",
              "      <th></th>\n",
              "      <th>type</th>\n",
              "      <th>fixed acidity</th>\n",
              "      <th>volatile acidity</th>\n",
              "      <th>citric acid</th>\n",
              "      <th>residual sugar</th>\n",
              "      <th>chlorides</th>\n",
              "      <th>free sulfur dioxide</th>\n",
              "      <th>total sulfur dioxide</th>\n",
              "      <th>density</th>\n",
              "      <th>pH</th>\n",
              "      <th>sulphates</th>\n",
              "      <th>alcohol</th>\n",
              "      <th>quality</th>\n",
              "    </tr>\n",
              "  </thead>\n",
              "  <tbody>\n",
              "    <tr>\n",
              "      <th>0</th>\n",
              "      <td>white</td>\n",
              "      <td>7.0</td>\n",
              "      <td>0.27</td>\n",
              "      <td>0.36</td>\n",
              "      <td>20.7</td>\n",
              "      <td>0.045</td>\n",
              "      <td>45.0</td>\n",
              "      <td>170.0</td>\n",
              "      <td>1.0010</td>\n",
              "      <td>3.00</td>\n",
              "      <td>0.45</td>\n",
              "      <td>8.8</td>\n",
              "      <td>6</td>\n",
              "    </tr>\n",
              "    <tr>\n",
              "      <th>1</th>\n",
              "      <td>white</td>\n",
              "      <td>6.3</td>\n",
              "      <td>0.30</td>\n",
              "      <td>0.34</td>\n",
              "      <td>1.6</td>\n",
              "      <td>0.049</td>\n",
              "      <td>14.0</td>\n",
              "      <td>132.0</td>\n",
              "      <td>0.9940</td>\n",
              "      <td>3.30</td>\n",
              "      <td>0.49</td>\n",
              "      <td>9.5</td>\n",
              "      <td>6</td>\n",
              "    </tr>\n",
              "    <tr>\n",
              "      <th>2</th>\n",
              "      <td>white</td>\n",
              "      <td>8.1</td>\n",
              "      <td>0.28</td>\n",
              "      <td>0.40</td>\n",
              "      <td>6.9</td>\n",
              "      <td>0.050</td>\n",
              "      <td>30.0</td>\n",
              "      <td>97.0</td>\n",
              "      <td>0.9951</td>\n",
              "      <td>3.26</td>\n",
              "      <td>0.44</td>\n",
              "      <td>10.1</td>\n",
              "      <td>6</td>\n",
              "    </tr>\n",
              "    <tr>\n",
              "      <th>3</th>\n",
              "      <td>white</td>\n",
              "      <td>7.2</td>\n",
              "      <td>0.23</td>\n",
              "      <td>0.32</td>\n",
              "      <td>8.5</td>\n",
              "      <td>0.058</td>\n",
              "      <td>47.0</td>\n",
              "      <td>186.0</td>\n",
              "      <td>0.9956</td>\n",
              "      <td>3.19</td>\n",
              "      <td>0.40</td>\n",
              "      <td>9.9</td>\n",
              "      <td>6</td>\n",
              "    </tr>\n",
              "    <tr>\n",
              "      <th>4</th>\n",
              "      <td>white</td>\n",
              "      <td>7.2</td>\n",
              "      <td>0.23</td>\n",
              "      <td>0.32</td>\n",
              "      <td>8.5</td>\n",
              "      <td>0.058</td>\n",
              "      <td>47.0</td>\n",
              "      <td>186.0</td>\n",
              "      <td>0.9956</td>\n",
              "      <td>3.19</td>\n",
              "      <td>0.40</td>\n",
              "      <td>9.9</td>\n",
              "      <td>6</td>\n",
              "    </tr>\n",
              "  </tbody>\n",
              "</table>\n",
              "</div>\n",
              "      <button class=\"colab-df-convert\" onclick=\"convertToInteractive('df-a3335447-d89f-4916-a1f2-b9430412d224')\"\n",
              "              title=\"Convert this dataframe to an interactive table.\"\n",
              "              style=\"display:none;\">\n",
              "        \n",
              "  <svg xmlns=\"http://www.w3.org/2000/svg\" height=\"24px\"viewBox=\"0 0 24 24\"\n",
              "       width=\"24px\">\n",
              "    <path d=\"M0 0h24v24H0V0z\" fill=\"none\"/>\n",
              "    <path d=\"M18.56 5.44l.94 2.06.94-2.06 2.06-.94-2.06-.94-.94-2.06-.94 2.06-2.06.94zm-11 1L8.5 8.5l.94-2.06 2.06-.94-2.06-.94L8.5 2.5l-.94 2.06-2.06.94zm10 10l.94 2.06.94-2.06 2.06-.94-2.06-.94-.94-2.06-.94 2.06-2.06.94z\"/><path d=\"M17.41 7.96l-1.37-1.37c-.4-.4-.92-.59-1.43-.59-.52 0-1.04.2-1.43.59L10.3 9.45l-7.72 7.72c-.78.78-.78 2.05 0 2.83L4 21.41c.39.39.9.59 1.41.59.51 0 1.02-.2 1.41-.59l7.78-7.78 2.81-2.81c.8-.78.8-2.07 0-2.86zM5.41 20L4 18.59l7.72-7.72 1.47 1.35L5.41 20z\"/>\n",
              "  </svg>\n",
              "      </button>\n",
              "      \n",
              "  <style>\n",
              "    .colab-df-container {\n",
              "      display:flex;\n",
              "      flex-wrap:wrap;\n",
              "      gap: 12px;\n",
              "    }\n",
              "\n",
              "    .colab-df-convert {\n",
              "      background-color: #E8F0FE;\n",
              "      border: none;\n",
              "      border-radius: 50%;\n",
              "      cursor: pointer;\n",
              "      display: none;\n",
              "      fill: #1967D2;\n",
              "      height: 32px;\n",
              "      padding: 0 0 0 0;\n",
              "      width: 32px;\n",
              "    }\n",
              "\n",
              "    .colab-df-convert:hover {\n",
              "      background-color: #E2EBFA;\n",
              "      box-shadow: 0px 1px 2px rgba(60, 64, 67, 0.3), 0px 1px 3px 1px rgba(60, 64, 67, 0.15);\n",
              "      fill: #174EA6;\n",
              "    }\n",
              "\n",
              "    [theme=dark] .colab-df-convert {\n",
              "      background-color: #3B4455;\n",
              "      fill: #D2E3FC;\n",
              "    }\n",
              "\n",
              "    [theme=dark] .colab-df-convert:hover {\n",
              "      background-color: #434B5C;\n",
              "      box-shadow: 0px 1px 3px 1px rgba(0, 0, 0, 0.15);\n",
              "      filter: drop-shadow(0px 1px 2px rgba(0, 0, 0, 0.3));\n",
              "      fill: #FFFFFF;\n",
              "    }\n",
              "  </style>\n",
              "\n",
              "      <script>\n",
              "        const buttonEl =\n",
              "          document.querySelector('#df-a3335447-d89f-4916-a1f2-b9430412d224 button.colab-df-convert');\n",
              "        buttonEl.style.display =\n",
              "          google.colab.kernel.accessAllowed ? 'block' : 'none';\n",
              "\n",
              "        async function convertToInteractive(key) {\n",
              "          const element = document.querySelector('#df-a3335447-d89f-4916-a1f2-b9430412d224');\n",
              "          const dataTable =\n",
              "            await google.colab.kernel.invokeFunction('convertToInteractive',\n",
              "                                                     [key], {});\n",
              "          if (!dataTable) return;\n",
              "\n",
              "          const docLinkHtml = 'Like what you see? Visit the ' +\n",
              "            '<a target=\"_blank\" href=https://colab.research.google.com/notebooks/data_table.ipynb>data table notebook</a>'\n",
              "            + ' to learn more about interactive tables.';\n",
              "          element.innerHTML = '';\n",
              "          dataTable['output_type'] = 'display_data';\n",
              "          await google.colab.output.renderOutput(dataTable, element);\n",
              "          const docLink = document.createElement('div');\n",
              "          docLink.innerHTML = docLinkHtml;\n",
              "          element.appendChild(docLink);\n",
              "        }\n",
              "      </script>\n",
              "    </div>\n",
              "  </div>\n",
              "  "
            ]
          },
          "metadata": {},
          "execution_count": 6
        }
      ]
    },
    {
      "cell_type": "code",
      "source": [
        "df_wine.describe().T"
      ],
      "metadata": {
        "colab": {
          "base_uri": "https://localhost:8080/",
          "height": 426
        },
        "id": "ao5_q7EGrqBe",
        "outputId": "0ebdcea5-3d59-451e-8ab1-05fdd9a726dc"
      },
      "execution_count": null,
      "outputs": [
        {
          "output_type": "execute_result",
          "data": {
            "text/plain": [
              "                       count        mean        std      min       25%  \\\n",
              "fixed acidity         6487.0    7.216579   1.296750  3.80000   6.40000   \n",
              "volatile acidity      6489.0    0.339691   0.164649  0.08000   0.23000   \n",
              "citric acid           6494.0    0.318722   0.145265  0.00000   0.25000   \n",
              "residual sugar        6495.0    5.444326   4.758125  0.60000   1.80000   \n",
              "chlorides             6495.0    0.056042   0.035036  0.00900   0.03800   \n",
              "free sulfur dioxide   6497.0   30.525319  17.749400  1.00000  17.00000   \n",
              "total sulfur dioxide  6497.0  115.744574  56.521855  6.00000  77.00000   \n",
              "density               6497.0    0.994697   0.002999  0.98711   0.99234   \n",
              "pH                    6488.0    3.218395   0.160748  2.72000   3.11000   \n",
              "sulphates             6493.0    0.531215   0.148814  0.22000   0.43000   \n",
              "alcohol               6497.0   10.491801   1.192712  8.00000   9.50000   \n",
              "quality               6497.0    5.818378   0.873255  3.00000   5.00000   \n",
              "\n",
              "                            50%        75%        max  \n",
              "fixed acidity           7.00000    7.70000   15.90000  \n",
              "volatile acidity        0.29000    0.40000    1.58000  \n",
              "citric acid             0.31000    0.39000    1.66000  \n",
              "residual sugar          3.00000    8.10000   65.80000  \n",
              "chlorides               0.04700    0.06500    0.61100  \n",
              "free sulfur dioxide    29.00000   41.00000  289.00000  \n",
              "total sulfur dioxide  118.00000  156.00000  440.00000  \n",
              "density                 0.99489    0.99699    1.03898  \n",
              "pH                      3.21000    3.32000    4.01000  \n",
              "sulphates               0.51000    0.60000    2.00000  \n",
              "alcohol                10.30000   11.30000   14.90000  \n",
              "quality                 6.00000    6.00000    9.00000  "
            ],
            "text/html": [
              "\n",
              "  <div id=\"df-8077b91c-3998-45b1-b93e-e9a689cc8528\">\n",
              "    <div class=\"colab-df-container\">\n",
              "      <div>\n",
              "<style scoped>\n",
              "    .dataframe tbody tr th:only-of-type {\n",
              "        vertical-align: middle;\n",
              "    }\n",
              "\n",
              "    .dataframe tbody tr th {\n",
              "        vertical-align: top;\n",
              "    }\n",
              "\n",
              "    .dataframe thead th {\n",
              "        text-align: right;\n",
              "    }\n",
              "</style>\n",
              "<table border=\"1\" class=\"dataframe\">\n",
              "  <thead>\n",
              "    <tr style=\"text-align: right;\">\n",
              "      <th></th>\n",
              "      <th>count</th>\n",
              "      <th>mean</th>\n",
              "      <th>std</th>\n",
              "      <th>min</th>\n",
              "      <th>25%</th>\n",
              "      <th>50%</th>\n",
              "      <th>75%</th>\n",
              "      <th>max</th>\n",
              "    </tr>\n",
              "  </thead>\n",
              "  <tbody>\n",
              "    <tr>\n",
              "      <th>fixed acidity</th>\n",
              "      <td>6487.0</td>\n",
              "      <td>7.216579</td>\n",
              "      <td>1.296750</td>\n",
              "      <td>3.80000</td>\n",
              "      <td>6.40000</td>\n",
              "      <td>7.00000</td>\n",
              "      <td>7.70000</td>\n",
              "      <td>15.90000</td>\n",
              "    </tr>\n",
              "    <tr>\n",
              "      <th>volatile acidity</th>\n",
              "      <td>6489.0</td>\n",
              "      <td>0.339691</td>\n",
              "      <td>0.164649</td>\n",
              "      <td>0.08000</td>\n",
              "      <td>0.23000</td>\n",
              "      <td>0.29000</td>\n",
              "      <td>0.40000</td>\n",
              "      <td>1.58000</td>\n",
              "    </tr>\n",
              "    <tr>\n",
              "      <th>citric acid</th>\n",
              "      <td>6494.0</td>\n",
              "      <td>0.318722</td>\n",
              "      <td>0.145265</td>\n",
              "      <td>0.00000</td>\n",
              "      <td>0.25000</td>\n",
              "      <td>0.31000</td>\n",
              "      <td>0.39000</td>\n",
              "      <td>1.66000</td>\n",
              "    </tr>\n",
              "    <tr>\n",
              "      <th>residual sugar</th>\n",
              "      <td>6495.0</td>\n",
              "      <td>5.444326</td>\n",
              "      <td>4.758125</td>\n",
              "      <td>0.60000</td>\n",
              "      <td>1.80000</td>\n",
              "      <td>3.00000</td>\n",
              "      <td>8.10000</td>\n",
              "      <td>65.80000</td>\n",
              "    </tr>\n",
              "    <tr>\n",
              "      <th>chlorides</th>\n",
              "      <td>6495.0</td>\n",
              "      <td>0.056042</td>\n",
              "      <td>0.035036</td>\n",
              "      <td>0.00900</td>\n",
              "      <td>0.03800</td>\n",
              "      <td>0.04700</td>\n",
              "      <td>0.06500</td>\n",
              "      <td>0.61100</td>\n",
              "    </tr>\n",
              "    <tr>\n",
              "      <th>free sulfur dioxide</th>\n",
              "      <td>6497.0</td>\n",
              "      <td>30.525319</td>\n",
              "      <td>17.749400</td>\n",
              "      <td>1.00000</td>\n",
              "      <td>17.00000</td>\n",
              "      <td>29.00000</td>\n",
              "      <td>41.00000</td>\n",
              "      <td>289.00000</td>\n",
              "    </tr>\n",
              "    <tr>\n",
              "      <th>total sulfur dioxide</th>\n",
              "      <td>6497.0</td>\n",
              "      <td>115.744574</td>\n",
              "      <td>56.521855</td>\n",
              "      <td>6.00000</td>\n",
              "      <td>77.00000</td>\n",
              "      <td>118.00000</td>\n",
              "      <td>156.00000</td>\n",
              "      <td>440.00000</td>\n",
              "    </tr>\n",
              "    <tr>\n",
              "      <th>density</th>\n",
              "      <td>6497.0</td>\n",
              "      <td>0.994697</td>\n",
              "      <td>0.002999</td>\n",
              "      <td>0.98711</td>\n",
              "      <td>0.99234</td>\n",
              "      <td>0.99489</td>\n",
              "      <td>0.99699</td>\n",
              "      <td>1.03898</td>\n",
              "    </tr>\n",
              "    <tr>\n",
              "      <th>pH</th>\n",
              "      <td>6488.0</td>\n",
              "      <td>3.218395</td>\n",
              "      <td>0.160748</td>\n",
              "      <td>2.72000</td>\n",
              "      <td>3.11000</td>\n",
              "      <td>3.21000</td>\n",
              "      <td>3.32000</td>\n",
              "      <td>4.01000</td>\n",
              "    </tr>\n",
              "    <tr>\n",
              "      <th>sulphates</th>\n",
              "      <td>6493.0</td>\n",
              "      <td>0.531215</td>\n",
              "      <td>0.148814</td>\n",
              "      <td>0.22000</td>\n",
              "      <td>0.43000</td>\n",
              "      <td>0.51000</td>\n",
              "      <td>0.60000</td>\n",
              "      <td>2.00000</td>\n",
              "    </tr>\n",
              "    <tr>\n",
              "      <th>alcohol</th>\n",
              "      <td>6497.0</td>\n",
              "      <td>10.491801</td>\n",
              "      <td>1.192712</td>\n",
              "      <td>8.00000</td>\n",
              "      <td>9.50000</td>\n",
              "      <td>10.30000</td>\n",
              "      <td>11.30000</td>\n",
              "      <td>14.90000</td>\n",
              "    </tr>\n",
              "    <tr>\n",
              "      <th>quality</th>\n",
              "      <td>6497.0</td>\n",
              "      <td>5.818378</td>\n",
              "      <td>0.873255</td>\n",
              "      <td>3.00000</td>\n",
              "      <td>5.00000</td>\n",
              "      <td>6.00000</td>\n",
              "      <td>6.00000</td>\n",
              "      <td>9.00000</td>\n",
              "    </tr>\n",
              "  </tbody>\n",
              "</table>\n",
              "</div>\n",
              "      <button class=\"colab-df-convert\" onclick=\"convertToInteractive('df-8077b91c-3998-45b1-b93e-e9a689cc8528')\"\n",
              "              title=\"Convert this dataframe to an interactive table.\"\n",
              "              style=\"display:none;\">\n",
              "        \n",
              "  <svg xmlns=\"http://www.w3.org/2000/svg\" height=\"24px\"viewBox=\"0 0 24 24\"\n",
              "       width=\"24px\">\n",
              "    <path d=\"M0 0h24v24H0V0z\" fill=\"none\"/>\n",
              "    <path d=\"M18.56 5.44l.94 2.06.94-2.06 2.06-.94-2.06-.94-.94-2.06-.94 2.06-2.06.94zm-11 1L8.5 8.5l.94-2.06 2.06-.94-2.06-.94L8.5 2.5l-.94 2.06-2.06.94zm10 10l.94 2.06.94-2.06 2.06-.94-2.06-.94-.94-2.06-.94 2.06-2.06.94z\"/><path d=\"M17.41 7.96l-1.37-1.37c-.4-.4-.92-.59-1.43-.59-.52 0-1.04.2-1.43.59L10.3 9.45l-7.72 7.72c-.78.78-.78 2.05 0 2.83L4 21.41c.39.39.9.59 1.41.59.51 0 1.02-.2 1.41-.59l7.78-7.78 2.81-2.81c.8-.78.8-2.07 0-2.86zM5.41 20L4 18.59l7.72-7.72 1.47 1.35L5.41 20z\"/>\n",
              "  </svg>\n",
              "      </button>\n",
              "      \n",
              "  <style>\n",
              "    .colab-df-container {\n",
              "      display:flex;\n",
              "      flex-wrap:wrap;\n",
              "      gap: 12px;\n",
              "    }\n",
              "\n",
              "    .colab-df-convert {\n",
              "      background-color: #E8F0FE;\n",
              "      border: none;\n",
              "      border-radius: 50%;\n",
              "      cursor: pointer;\n",
              "      display: none;\n",
              "      fill: #1967D2;\n",
              "      height: 32px;\n",
              "      padding: 0 0 0 0;\n",
              "      width: 32px;\n",
              "    }\n",
              "\n",
              "    .colab-df-convert:hover {\n",
              "      background-color: #E2EBFA;\n",
              "      box-shadow: 0px 1px 2px rgba(60, 64, 67, 0.3), 0px 1px 3px 1px rgba(60, 64, 67, 0.15);\n",
              "      fill: #174EA6;\n",
              "    }\n",
              "\n",
              "    [theme=dark] .colab-df-convert {\n",
              "      background-color: #3B4455;\n",
              "      fill: #D2E3FC;\n",
              "    }\n",
              "\n",
              "    [theme=dark] .colab-df-convert:hover {\n",
              "      background-color: #434B5C;\n",
              "      box-shadow: 0px 1px 3px 1px rgba(0, 0, 0, 0.15);\n",
              "      filter: drop-shadow(0px 1px 2px rgba(0, 0, 0, 0.3));\n",
              "      fill: #FFFFFF;\n",
              "    }\n",
              "  </style>\n",
              "\n",
              "      <script>\n",
              "        const buttonEl =\n",
              "          document.querySelector('#df-8077b91c-3998-45b1-b93e-e9a689cc8528 button.colab-df-convert');\n",
              "        buttonEl.style.display =\n",
              "          google.colab.kernel.accessAllowed ? 'block' : 'none';\n",
              "\n",
              "        async function convertToInteractive(key) {\n",
              "          const element = document.querySelector('#df-8077b91c-3998-45b1-b93e-e9a689cc8528');\n",
              "          const dataTable =\n",
              "            await google.colab.kernel.invokeFunction('convertToInteractive',\n",
              "                                                     [key], {});\n",
              "          if (!dataTable) return;\n",
              "\n",
              "          const docLinkHtml = 'Like what you see? Visit the ' +\n",
              "            '<a target=\"_blank\" href=https://colab.research.google.com/notebooks/data_table.ipynb>data table notebook</a>'\n",
              "            + ' to learn more about interactive tables.';\n",
              "          element.innerHTML = '';\n",
              "          dataTable['output_type'] = 'display_data';\n",
              "          await google.colab.output.renderOutput(dataTable, element);\n",
              "          const docLink = document.createElement('div');\n",
              "          docLink.innerHTML = docLinkHtml;\n",
              "          element.appendChild(docLink);\n",
              "        }\n",
              "      </script>\n",
              "    </div>\n",
              "  </div>\n",
              "  "
            ]
          },
          "metadata": {},
          "execution_count": 13
        }
      ]
    },
    {
      "cell_type": "markdown",
      "source": [
        "**Описание переменных** (по данным физико-химических тестов):\n",
        "- 1 - fixed acidity (большинство кислот, связанных с вином, либо фиксированные, либо нелетучие (легко не испаряются))\n",
        "- 2 - volatile acidity (количество уксусной кислоты в вине, которая при слишком высоком уровне может привести к неприятному \"уксусному\" вкусу)\n",
        "- 3 - citric acid (Лимонная кислота, содержащаяся в небольших количествах, может придать вину «свежесть» и аромат)\n",
        "- 4 - residual sugar (количество сахара, оставшееся после прекращения брожения, редко можно найти вина с содержанием сахара менее 1 г/л, а вина с содержанием сахара более 45 г/л считаются сладкими)\n",
        "- 5 - chlorides (количество соли в вине)\n",
        "- 6 - free sulfur dioxide (свободная форма SO^2 (диоксида серы) существует в равновесии между молекулярным SO^2 (в виде растворенного газа) и бисульфит-ионом; предотвращает рост микробов и окисление вина)\n",
        "- 7 - total sulfur dioxide (количество свободных и связанных форм диоксида серы; при низких концентрациях диоксида серы практически не обнаруживается в вине, но при концентрациях свободного диоксида серы более 50 частей на миллион диоксида серы становится заметным в аромате и вкусе вина)\n",
        "- 8 - density (плотность воды близка к плотности воды в зависимости от процентного содержания спирта и сахара)\n",
        "- 9 - pH (описывает, насколько кислым или щелочным является вино по шкале от 0 (очень кислое) до 14 (очень щелочное); большинство вин имеют рН от 3 до 4 по шкале pH)\n",
        "- 10 - sulphates (добавка к вину, которая может способствовать повышению уровня газообразного диоксида серы (SO2), действующая как антимикробное и антиоксидантное средство)\n",
        "- 11 - alcohol (процент содержания алкоголя в вине)\n",
        "Целевая переменная (по данным сенсорной оценки):\n",
        "12 - quality (целевая переменная (на основе сенсорных данных, оценка от 0 до 10))\n",
        "\n",
        "(Больше информации на сайте [Kaggle](https://www.kaggle.com/rajyellow46/wine-quality) )"
      ],
      "metadata": {
        "id": "XRMwl2hermni"
      }
    },
    {
      "cell_type": "markdown",
      "source": [
        "### 2.5 Далее взглянем на некоторую ключевую информацию о переменных\n",
        "<p>Числовая переменная - это переменная со значениями в области целых или действительных чисел, в то время как категориальная переменная - это переменная, которая может принимать одно из ограниченного и обычно фиксированного числа возможных значений, таких как тип вина.\n",
        "\n",
        "Обратите особое внимание на тип каждой переменной, количество наблюдений и некоторые значения переменных.\n"
      ],
      "metadata": {
        "id": "vYCH596ktxWB"
      }
    },
    {
      "cell_type": "code",
      "source": [
        "df_wine.info()"
      ],
      "metadata": {
        "colab": {
          "base_uri": "https://localhost:8080/"
        },
        "id": "El2sMtJRuhEr",
        "outputId": "fd0754cd-c24c-4ee8-e131-680976833e18"
      },
      "execution_count": null,
      "outputs": [
        {
          "output_type": "stream",
          "name": "stdout",
          "text": [
            "<class 'pandas.core.frame.DataFrame'>\n",
            "RangeIndex: 6497 entries, 0 to 6496\n",
            "Data columns (total 13 columns):\n",
            " #   Column                Non-Null Count  Dtype  \n",
            "---  ------                --------------  -----  \n",
            " 0   type                  6497 non-null   object \n",
            " 1   fixed acidity         6487 non-null   float64\n",
            " 2   volatile acidity      6489 non-null   float64\n",
            " 3   citric acid           6494 non-null   float64\n",
            " 4   residual sugar        6495 non-null   float64\n",
            " 5   chlorides             6495 non-null   float64\n",
            " 6   free sulfur dioxide   6497 non-null   float64\n",
            " 7   total sulfur dioxide  6497 non-null   float64\n",
            " 8   density               6497 non-null   float64\n",
            " 9   pH                    6488 non-null   float64\n",
            " 10  sulphates             6493 non-null   float64\n",
            " 11  alcohol               6497 non-null   float64\n",
            " 12  quality               6497 non-null   int64  \n",
            "dtypes: float64(11), int64(1), object(1)\n",
            "memory usage: 660.0+ KB\n"
          ]
        }
      ]
    },
    {
      "cell_type": "markdown",
      "source": [
        "#### 2.6 Тепловая карта корреляции может дать нам понимание того, какие переменные важны"
      ],
      "metadata": {
        "id": "DdV-JPozvR4I"
      }
    },
    {
      "cell_type": "code",
      "source": [
        "plot_correlation_map( df_wine )"
      ],
      "metadata": {
        "colab": {
          "base_uri": "https://localhost:8080/",
          "height": 667
        },
        "id": "_YrztQS6vXIN",
        "outputId": "3435436a-4ec4-4fc7-e1e3-2bd81a0da8ed"
      },
      "execution_count": null,
      "outputs": [
        {
          "output_type": "display_data",
          "data": {
            "text/plain": [
              "<Figure size 864x720 with 2 Axes>"
            ],
            "image/png": "[encoded data removed]"
          },
          "metadata": {}
        }
      ]
    },
    {
      "cell_type": "markdown",
      "source": [
        "# 3. Предобработка"
      ],
      "metadata": {
        "_uuid": "4859f933-f0a3-4ce5-8f5f-327f74962ba8",
        "_cell_guid": "29b6ba22-94e5-4845-950c-eebf543bf703",
        "trusted": true,
        "id": "uN1SzQ8bN2pc"
      }
    },
    {
      "cell_type": "markdown",
      "source": [
        "Сначала посмотрим, сколько пропущенных значений в датасете:"
      ],
      "metadata": {
        "_uuid": "f6034a6a-e4ff-4c4c-bd12-cdfca036558c",
        "_cell_guid": "f58105f5-fd52-4004-b833-601d1a2f2f9c",
        "trusted": true,
        "id": "mnOgKPyGN2pd"
      }
    },
    {
      "cell_type": "code",
      "source": [
        "total_entries = (df_wine.shape[0] * df_wine.shape[1])\n",
        "missing_entries_max = df_wine.isnull().sum().sum()\n",
        "missing_entries_max_percentage = (missing_entries_max / total_entries) * 100\n",
        "\n",
        "print(f\"Total entries in the dataset: %i\" % total_entries)\n",
        "print(f\"Maximum missing values in the dataset: {missing_entries_max}\")\n",
        "print(f\"Percentage of maximum missing values in the dataset: {missing_entries_max_percentage:.2f}%\")\n",
        "df_wine"
      ],
      "metadata": {
        "_uuid": "cf891a67-8fe4-4236-9521-c63298583542",
        "_cell_guid": "22ed569a-bf45-4ccc-a280-4691846f81b3",
        "jupyter": {
          "outputs_hidden": false
        },
        "execution": {
          "iopub.status.busy": "2022-02-22T19:36:38.521771Z",
          "iopub.execute_input": "2022-02-22T19:36:38.522595Z",
          "iopub.status.idle": "2022-02-22T19:36:38.570622Z",
          "shell.execute_reply.started": "2022-02-22T19:36:38.522517Z",
          "shell.execute_reply": "2022-02-22T19:36:38.569621Z"
        },
        "trusted": true,
        "id": "46g3rC0lN2pd",
        "colab": {
          "base_uri": "https://localhost:8080/",
          "height": 554
        },
        "outputId": "ae58e178-5fb9-4569-a48f-d83746f145d0"
      },
      "execution_count": null,
      "outputs": [
        {
          "output_type": "stream",
          "name": "stdout",
          "text": [
            "Total entries in the dataset: 84461\n",
            "Maximum missing values in the dataset: 38\n",
            "Percentage of maximum missing values in the dataset: 0.04%\n"
          ]
        },
        {
          "output_type": "execute_result",
          "data": {
            "text/plain": [
              "       type  fixed acidity  volatile acidity  citric acid  residual sugar  \\\n",
              "0     white            7.0             0.270         0.36            20.7   \n",
              "1     white            6.3             0.300         0.34             1.6   \n",
              "2     white            8.1             0.280         0.40             6.9   \n",
              "3     white            7.2             0.230         0.32             8.5   \n",
              "4     white            7.2             0.230         0.32             8.5   \n",
              "...     ...            ...               ...          ...             ...   \n",
              "6492    red            6.2             0.600         0.08             2.0   \n",
              "6493    red            5.9             0.550         0.10             2.2   \n",
              "6494    red            6.3             0.510         0.13             2.3   \n",
              "6495    red            5.9             0.645         0.12             2.0   \n",
              "6496    red            6.0             0.310         0.47             3.6   \n",
              "\n",
              "      chlorides  free sulfur dioxide  total sulfur dioxide  density    pH  \\\n",
              "0         0.045                 45.0                 170.0  1.00100  3.00   \n",
              "1         0.049                 14.0                 132.0  0.99400  3.30   \n",
              "2         0.050                 30.0                  97.0  0.99510  3.26   \n",
              "3         0.058                 47.0                 186.0  0.99560  3.19   \n",
              "4         0.058                 47.0                 186.0  0.99560  3.19   \n",
              "...         ...                  ...                   ...      ...   ...   \n",
              "6492      0.090                 32.0                  44.0  0.99490  3.45   \n",
              "6493      0.062                 39.0                  51.0  0.99512  3.52   \n",
              "6494      0.076                 29.0                  40.0  0.99574  3.42   \n",
              "6495      0.075                 32.0                  44.0  0.99547  3.57   \n",
              "6496      0.067                 18.0                  42.0  0.99549  3.39   \n",
              "\n",
              "      sulphates  alcohol  quality  \n",
              "0          0.45      8.8        6  \n",
              "1          0.49      9.5        6  \n",
              "2          0.44     10.1        6  \n",
              "3          0.40      9.9        6  \n",
              "4          0.40      9.9        6  \n",
              "...         ...      ...      ...  \n",
              "6492       0.58     10.5        5  \n",
              "6493        NaN     11.2        6  \n",
              "6494       0.75     11.0        6  \n",
              "6495       0.71     10.2        5  \n",
              "6496       0.66     11.0        6  \n",
              "\n",
              "[6497 rows x 13 columns]"
            ],
            "text/html": [
              "\n",
              "  <div id=\"df-63b192cd-6e7a-415d-968a-5cce3be5363f\">\n",
              "    <div class=\"colab-df-container\">\n",
              "      <div>\n",
              "<style scoped>\n",
              "    .dataframe tbody tr th:only-of-type {\n",
              "        vertical-align: middle;\n",
              "    }\n",
              "\n",
              "    .dataframe tbody tr th {\n",
              "        vertical-align: top;\n",
              "    }\n",
              "\n",
              "    .dataframe thead th {\n",
              "        text-align: right;\n",
              "    }\n",
              "</style>\n",
              "<table border=\"1\" class=\"dataframe\">\n",
              "  <thead>\n",
              "    <tr style=\"text-align: right;\">\n",
              "      <th></th>\n",
              "      <th>type</th>\n",
              "      <th>fixed acidity</th>\n",
              "      <th>volatile acidity</th>\n",
              "      <th>citric acid</th>\n",
              "      <th>residual sugar</th>\n",
              "      <th>chlorides</th>\n",
              "      <th>free sulfur dioxide</th>\n",
              "      <th>total sulfur dioxide</th>\n",
              "      <th>density</th>\n",
              "      <th>pH</th>\n",
              "      <th>sulphates</th>\n",
              "      <th>alcohol</th>\n",
              "      <th>quality</th>\n",
              "    </tr>\n",
              "  </thead>\n",
              "  <tbody>\n",
              "    <tr>\n",
              "      <th>0</th>\n",
              "      <td>white</td>\n",
              "      <td>7.0</td>\n",
              "      <td>0.270</td>\n",
              "      <td>0.36</td>\n",
              "      <td>20.7</td>\n",
              "      <td>0.045</td>\n",
              "      <td>45.0</td>\n",
              "      <td>170.0</td>\n",
              "      <td>1.00100</td>\n",
              "      <td>3.00</td>\n",
              "      <td>0.45</td>\n",
              "      <td>8.8</td>\n",
              "      <td>6</td>\n",
              "    </tr>\n",
              "    <tr>\n",
              "      <th>1</th>\n",
              "      <td>white</td>\n",
              "      <td>6.3</td>\n",
              "      <td>0.300</td>\n",
              "      <td>0.34</td>\n",
              "      <td>1.6</td>\n",
              "      <td>0.049</td>\n",
              "      <td>14.0</td>\n",
              "      <td>132.0</td>\n",
              "      <td>0.99400</td>\n",
              "      <td>3.30</td>\n",
              "      <td>0.49</td>\n",
              "      <td>9.5</td>\n",
              "      <td>6</td>\n",
              "    </tr>\n",
              "    <tr>\n",
              "      <th>2</th>\n",
              "      <td>white</td>\n",
              "      <td>8.1</td>\n",
              "      <td>0.280</td>\n",
              "      <td>0.40</td>\n",
              "      <td>6.9</td>\n",
              "      <td>0.050</td>\n",
              "      <td>30.0</td>\n",
              "      <td>97.0</td>\n",
              "      <td>0.99510</td>\n",
              "      <td>3.26</td>\n",
              "      <td>0.44</td>\n",
              "      <td>10.1</td>\n",
              "      <td>6</td>\n",
              "    </tr>\n",
              "    <tr>\n",
              "      <th>3</th>\n",
              "      <td>white</td>\n",
              "      <td>7.2</td>\n",
              "      <td>0.230</td>\n",
              "      <td>0.32</td>\n",
              "      <td>8.5</td>\n",
              "      <td>0.058</td>\n",
              "      <td>47.0</td>\n",
              "      <td>186.0</td>\n",
              "      <td>0.99560</td>\n",
              "      <td>3.19</td>\n",
              "      <td>0.40</td>\n",
              "      <td>9.9</td>\n",
              "      <td>6</td>\n",
              "    </tr>\n",
              "    <tr>\n",
              "      <th>4</th>\n",
              "      <td>white</td>\n",
              "      <td>7.2</td>\n",
              "      <td>0.230</td>\n",
              "      <td>0.32</td>\n",
              "      <td>8.5</td>\n",
              "      <td>0.058</td>\n",
              "      <td>47.0</td>\n",
              "      <td>186.0</td>\n",
              "      <td>0.99560</td>\n",
              "      <td>3.19</td>\n",
              "      <td>0.40</td>\n",
              "      <td>9.9</td>\n",
              "      <td>6</td>\n",
              "    </tr>\n",
              "    <tr>\n",
              "      <th>...</th>\n",
              "      <td>...</td>\n",
              "      <td>...</td>\n",
              "      <td>...</td>\n",
              "      <td>...</td>\n",
              "      <td>...</td>\n",
              "      <td>...</td>\n",
              "      <td>...</td>\n",
              "      <td>...</td>\n",
              "      <td>...</td>\n",
              "      <td>...</td>\n",
              "      <td>...</td>\n",
              "      <td>...</td>\n",
              "      <td>...</td>\n",
              "    </tr>\n",
              "    <tr>\n",
              "      <th>6492</th>\n",
              "      <td>red</td>\n",
              "      <td>6.2</td>\n",
              "      <td>0.600</td>\n",
              "      <td>0.08</td>\n",
              "      <td>2.0</td>\n",
              "      <td>0.090</td>\n",
              "      <td>32.0</td>\n",
              "      <td>44.0</td>\n",
              "      <td>0.99490</td>\n",
              "      <td>3.45</td>\n",
              "      <td>0.58</td>\n",
              "      <td>10.5</td>\n",
              "      <td>5</td>\n",
              "    </tr>\n",
              "    <tr>\n",
              "      <th>6493</th>\n",
              "      <td>red</td>\n",
              "      <td>5.9</td>\n",
              "      <td>0.550</td>\n",
              "      <td>0.10</td>\n",
              "      <td>2.2</td>\n",
              "      <td>0.062</td>\n",
              "      <td>39.0</td>\n",
              "      <td>51.0</td>\n",
              "      <td>0.99512</td>\n",
              "      <td>3.52</td>\n",
              "      <td>NaN</td>\n",
              "      <td>11.2</td>\n",
              "      <td>6</td>\n",
              "    </tr>\n",
              "    <tr>\n",
              "      <th>6494</th>\n",
              "      <td>red</td>\n",
              "      <td>6.3</td>\n",
              "      <td>0.510</td>\n",
              "      <td>0.13</td>\n",
              "      <td>2.3</td>\n",
              "      <td>0.076</td>\n",
              "      <td>29.0</td>\n",
              "      <td>40.0</td>\n",
              "      <td>0.99574</td>\n",
              "      <td>3.42</td>\n",
              "      <td>0.75</td>\n",
              "      <td>11.0</td>\n",
              "      <td>6</td>\n",
              "    </tr>\n",
              "    <tr>\n",
              "      <th>6495</th>\n",
              "      <td>red</td>\n",
              "      <td>5.9</td>\n",
              "      <td>0.645</td>\n",
              "      <td>0.12</td>\n",
              "      <td>2.0</td>\n",
              "      <td>0.075</td>\n",
              "      <td>32.0</td>\n",
              "      <td>44.0</td>\n",
              "      <td>0.99547</td>\n",
              "      <td>3.57</td>\n",
              "      <td>0.71</td>\n",
              "      <td>10.2</td>\n",
              "      <td>5</td>\n",
              "    </tr>\n",
              "    <tr>\n",
              "      <th>6496</th>\n",
              "      <td>red</td>\n",
              "      <td>6.0</td>\n",
              "      <td>0.310</td>\n",
              "      <td>0.47</td>\n",
              "      <td>3.6</td>\n",
              "      <td>0.067</td>\n",
              "      <td>18.0</td>\n",
              "      <td>42.0</td>\n",
              "      <td>0.99549</td>\n",
              "      <td>3.39</td>\n",
              "      <td>0.66</td>\n",
              "      <td>11.0</td>\n",
              "      <td>6</td>\n",
              "    </tr>\n",
              "  </tbody>\n",
              "</table>\n",
              "<p>6497 rows × 13 columns</p>\n",
              "</div>\n",
              "      <button class=\"colab-df-convert\" onclick=\"convertToInteractive('df-63b192cd-6e7a-415d-968a-5cce3be5363f')\"\n",
              "              title=\"Convert this dataframe to an interactive table.\"\n",
              "              style=\"display:none;\">\n",
              "        \n",
              "  <svg xmlns=\"http://www.w3.org/2000/svg\" height=\"24px\"viewBox=\"0 0 24 24\"\n",
              "       width=\"24px\">\n",
              "    <path d=\"M0 0h24v24H0V0z\" fill=\"none\"/>\n",
              "    <path d=\"M18.56 5.44l.94 2.06.94-2.06 2.06-.94-2.06-.94-.94-2.06-.94 2.06-2.06.94zm-11 1L8.5 8.5l.94-2.06 2.06-.94-2.06-.94L8.5 2.5l-.94 2.06-2.06.94zm10 10l.94 2.06.94-2.06 2.06-.94-2.06-.94-.94-2.06-.94 2.06-2.06.94z\"/><path d=\"M17.41 7.96l-1.37-1.37c-.4-.4-.92-.59-1.43-.59-.52 0-1.04.2-1.43.59L10.3 9.45l-7.72 7.72c-.78.78-.78 2.05 0 2.83L4 21.41c.39.39.9.59 1.41.59.51 0 1.02-.2 1.41-.59l7.78-7.78 2.81-2.81c.8-.78.8-2.07 0-2.86zM5.41 20L4 18.59l7.72-7.72 1.47 1.35L5.41 20z\"/>\n",
              "  </svg>\n",
              "      </button>\n",
              "      \n",
              "  <style>\n",
              "    .colab-df-container {\n",
              "      display:flex;\n",
              "      flex-wrap:wrap;\n",
              "      gap: 12px;\n",
              "    }\n",
              "\n",
              "    .colab-df-convert {\n",
              "      background-color: #E8F0FE;\n",
              "      border: none;\n",
              "      border-radius: 50%;\n",
              "      cursor: pointer;\n",
              "      display: none;\n",
              "      fill: #1967D2;\n",
              "      height: 32px;\n",
              "      padding: 0 0 0 0;\n",
              "      width: 32px;\n",
              "    }\n",
              "\n",
              "    .colab-df-convert:hover {\n",
              "      background-color: #E2EBFA;\n",
              "      box-shadow: 0px 1px 2px rgba(60, 64, 67, 0.3), 0px 1px 3px 1px rgba(60, 64, 67, 0.15);\n",
              "      fill: #174EA6;\n",
              "    }\n",
              "\n",
              "    [theme=dark] .colab-df-convert {\n",
              "      background-color: #3B4455;\n",
              "      fill: #D2E3FC;\n",
              "    }\n",
              "\n",
              "    [theme=dark] .colab-df-convert:hover {\n",
              "      background-color: #434B5C;\n",
              "      box-shadow: 0px 1px 3px 1px rgba(0, 0, 0, 0.15);\n",
              "      filter: drop-shadow(0px 1px 2px rgba(0, 0, 0, 0.3));\n",
              "      fill: #FFFFFF;\n",
              "    }\n",
              "  </style>\n",
              "\n",
              "      <script>\n",
              "        const buttonEl =\n",
              "          document.querySelector('#df-63b192cd-6e7a-415d-968a-5cce3be5363f button.colab-df-convert');\n",
              "        buttonEl.style.display =\n",
              "          google.colab.kernel.accessAllowed ? 'block' : 'none';\n",
              "\n",
              "        async function convertToInteractive(key) {\n",
              "          const element = document.querySelector('#df-63b192cd-6e7a-415d-968a-5cce3be5363f');\n",
              "          const dataTable =\n",
              "            await google.colab.kernel.invokeFunction('convertToInteractive',\n",
              "                                                     [key], {});\n",
              "          if (!dataTable) return;\n",
              "\n",
              "          const docLinkHtml = 'Like what you see? Visit the ' +\n",
              "            '<a target=\"_blank\" href=https://colab.research.google.com/notebooks/data_table.ipynb>data table notebook</a>'\n",
              "            + ' to learn more about interactive tables.';\n",
              "          element.innerHTML = '';\n",
              "          dataTable['output_type'] = 'display_data';\n",
              "          await google.colab.output.renderOutput(dataTable, element);\n",
              "          const docLink = document.createElement('div');\n",
              "          docLink.innerHTML = docLinkHtml;\n",
              "          element.appendChild(docLink);\n",
              "        }\n",
              "      </script>\n",
              "    </div>\n",
              "  </div>\n",
              "  "
            ]
          },
          "metadata": {},
          "execution_count": 17
        }
      ]
    },
    {
      "cell_type": "markdown",
      "source": [
        "Поскольку процент отсутствующих записей незначителен, мы можем отбросить каждое наблюдение, содержащее нуль, не влияя на точность прогноза."
      ],
      "metadata": {
        "_uuid": "fee213d8-331a-42dc-a7d3-33e73e259e76",
        "_cell_guid": "b04b2427-1edf-445d-bc98-bd98e13309f3",
        "trusted": true,
        "id": "CzQ9tzGpN2pf"
      }
    },
    {
      "cell_type": "code",
      "source": [
        "df_wine = df_wine.dropna(axis=0)\n",
        "df_wine"
      ],
      "metadata": {
        "_uuid": "95b513e6-6de7-47cb-8a5b-9a6e46d9d556",
        "_cell_guid": "529b72ed-de75-4d8f-a381-574e6474aa76",
        "jupyter": {
          "outputs_hidden": false
        },
        "execution": {
          "iopub.status.busy": "2022-02-22T19:36:38.57336Z",
          "iopub.execute_input": "2022-02-22T19:36:38.574339Z",
          "iopub.status.idle": "2022-02-22T19:36:38.615043Z",
          "shell.execute_reply.started": "2022-02-22T19:36:38.574291Z",
          "shell.execute_reply": "2022-02-22T19:36:38.61402Z"
        },
        "trusted": true,
        "id": "HsA0HqpsN2pg",
        "colab": {
          "base_uri": "https://localhost:8080/",
          "height": 502
        },
        "outputId": "dfa48688-b2b2-478e-ed88-eb6d3a76dc21"
      },
      "execution_count": null,
      "outputs": [
        {
          "output_type": "execute_result",
          "data": {
            "text/plain": [
              "       type  fixed acidity  volatile acidity  citric acid  residual sugar  \\\n",
              "0     white            7.0             0.270         0.36            20.7   \n",
              "1     white            6.3             0.300         0.34             1.6   \n",
              "2     white            8.1             0.280         0.40             6.9   \n",
              "3     white            7.2             0.230         0.32             8.5   \n",
              "4     white            7.2             0.230         0.32             8.5   \n",
              "...     ...            ...               ...          ...             ...   \n",
              "6491    red            6.8             0.620         0.08             1.9   \n",
              "6492    red            6.2             0.600         0.08             2.0   \n",
              "6494    red            6.3             0.510         0.13             2.3   \n",
              "6495    red            5.9             0.645         0.12             2.0   \n",
              "6496    red            6.0             0.310         0.47             3.6   \n",
              "\n",
              "      chlorides  free sulfur dioxide  total sulfur dioxide  density    pH  \\\n",
              "0         0.045                 45.0                 170.0  1.00100  3.00   \n",
              "1         0.049                 14.0                 132.0  0.99400  3.30   \n",
              "2         0.050                 30.0                  97.0  0.99510  3.26   \n",
              "3         0.058                 47.0                 186.0  0.99560  3.19   \n",
              "4         0.058                 47.0                 186.0  0.99560  3.19   \n",
              "...         ...                  ...                   ...      ...   ...   \n",
              "6491      0.068                 28.0                  38.0  0.99651  3.42   \n",
              "6492      0.090                 32.0                  44.0  0.99490  3.45   \n",
              "6494      0.076                 29.0                  40.0  0.99574  3.42   \n",
              "6495      0.075                 32.0                  44.0  0.99547  3.57   \n",
              "6496      0.067                 18.0                  42.0  0.99549  3.39   \n",
              "\n",
              "      sulphates  alcohol  quality  \n",
              "0          0.45      8.8        6  \n",
              "1          0.49      9.5        6  \n",
              "2          0.44     10.1        6  \n",
              "3          0.40      9.9        6  \n",
              "4          0.40      9.9        6  \n",
              "...         ...      ...      ...  \n",
              "6491       0.82      9.5        6  \n",
              "6492       0.58     10.5        5  \n",
              "6494       0.75     11.0        6  \n",
              "6495       0.71     10.2        5  \n",
              "6496       0.66     11.0        6  \n",
              "\n",
              "[6463 rows x 13 columns]"
            ],
            "text/html": [
              "\n",
              "  <div id=\"df-50595dc3-2c8c-452d-9796-14e40b13dce0\">\n",
              "    <div class=\"colab-df-container\">\n",
              "      <div>\n",
              "<style scoped>\n",
              "    .dataframe tbody tr th:only-of-type {\n",
              "        vertical-align: middle;\n",
              "    }\n",
              "\n",
              "    .dataframe tbody tr th {\n",
              "        vertical-align: top;\n",
              "    }\n",
              "\n",
              "    .dataframe thead th {\n",
              "        text-align: right;\n",
              "    }\n",
              "</style>\n",
              "<table border=\"1\" class=\"dataframe\">\n",
              "  <thead>\n",
              "    <tr style=\"text-align: right;\">\n",
              "      <th></th>\n",
              "      <th>type</th>\n",
              "      <th>fixed acidity</th>\n",
              "      <th>volatile acidity</th>\n",
              "      <th>citric acid</th>\n",
              "      <th>residual sugar</th>\n",
              "      <th>chlorides</th>\n",
              "      <th>free sulfur dioxide</th>\n",
              "      <th>total sulfur dioxide</th>\n",
              "      <th>density</th>\n",
              "      <th>pH</th>\n",
              "      <th>sulphates</th>\n",
              "      <th>alcohol</th>\n",
              "      <th>quality</th>\n",
              "    </tr>\n",
              "  </thead>\n",
              "  <tbody>\n",
              "    <tr>\n",
              "      <th>0</th>\n",
              "      <td>white</td>\n",
              "      <td>7.0</td>\n",
              "      <td>0.270</td>\n",
              "      <td>0.36</td>\n",
              "      <td>20.7</td>\n",
              "      <td>0.045</td>\n",
              "      <td>45.0</td>\n",
              "      <td>170.0</td>\n",
              "      <td>1.00100</td>\n",
              "      <td>3.00</td>\n",
              "      <td>0.45</td>\n",
              "      <td>8.8</td>\n",
              "      <td>6</td>\n",
              "    </tr>\n",
              "    <tr>\n",
              "      <th>1</th>\n",
              "      <td>white</td>\n",
              "      <td>6.3</td>\n",
              "      <td>0.300</td>\n",
              "      <td>0.34</td>\n",
              "      <td>1.6</td>\n",
              "      <td>0.049</td>\n",
              "      <td>14.0</td>\n",
              "      <td>132.0</td>\n",
              "      <td>0.99400</td>\n",
              "      <td>3.30</td>\n",
              "      <td>0.49</td>\n",
              "      <td>9.5</td>\n",
              "      <td>6</td>\n",
              "    </tr>\n",
              "    <tr>\n",
              "      <th>2</th>\n",
              "      <td>white</td>\n",
              "      <td>8.1</td>\n",
              "      <td>0.280</td>\n",
              "      <td>0.40</td>\n",
              "      <td>6.9</td>\n",
              "      <td>0.050</td>\n",
              "      <td>30.0</td>\n",
              "      <td>97.0</td>\n",
              "      <td>0.99510</td>\n",
              "      <td>3.26</td>\n",
              "      <td>0.44</td>\n",
              "      <td>10.1</td>\n",
              "      <td>6</td>\n",
              "    </tr>\n",
              "    <tr>\n",
              "      <th>3</th>\n",
              "      <td>white</td>\n",
              "      <td>7.2</td>\n",
              "      <td>0.230</td>\n",
              "      <td>0.32</td>\n",
              "      <td>8.5</td>\n",
              "      <td>0.058</td>\n",
              "      <td>47.0</td>\n",
              "      <td>186.0</td>\n",
              "      <td>0.99560</td>\n",
              "      <td>3.19</td>\n",
              "      <td>0.40</td>\n",
              "      <td>9.9</td>\n",
              "      <td>6</td>\n",
              "    </tr>\n",
              "    <tr>\n",
              "      <th>4</th>\n",
              "      <td>white</td>\n",
              "      <td>7.2</td>\n",
              "      <td>0.230</td>\n",
              "      <td>0.32</td>\n",
              "      <td>8.5</td>\n",
              "      <td>0.058</td>\n",
              "      <td>47.0</td>\n",
              "      <td>186.0</td>\n",
              "      <td>0.99560</td>\n",
              "      <td>3.19</td>\n",
              "      <td>0.40</td>\n",
              "      <td>9.9</td>\n",
              "      <td>6</td>\n",
              "    </tr>\n",
              "    <tr>\n",
              "      <th>...</th>\n",
              "      <td>...</td>\n",
              "      <td>...</td>\n",
              "      <td>...</td>\n",
              "      <td>...</td>\n",
              "      <td>...</td>\n",
              "      <td>...</td>\n",
              "      <td>...</td>\n",
              "      <td>...</td>\n",
              "      <td>...</td>\n",
              "      <td>...</td>\n",
              "      <td>...</td>\n",
              "      <td>...</td>\n",
              "      <td>...</td>\n",
              "    </tr>\n",
              "    <tr>\n",
              "      <th>6491</th>\n",
              "      <td>red</td>\n",
              "      <td>6.8</td>\n",
              "      <td>0.620</td>\n",
              "      <td>0.08</td>\n",
              "      <td>1.9</td>\n",
              "      <td>0.068</td>\n",
              "      <td>28.0</td>\n",
              "      <td>38.0</td>\n",
              "      <td>0.99651</td>\n",
              "      <td>3.42</td>\n",
              "      <td>0.82</td>\n",
              "      <td>9.5</td>\n",
              "      <td>6</td>\n",
              "    </tr>\n",
              "    <tr>\n",
              "      <th>6492</th>\n",
              "      <td>red</td>\n",
              "      <td>6.2</td>\n",
              "      <td>0.600</td>\n",
              "      <td>0.08</td>\n",
              "      <td>2.0</td>\n",
              "      <td>0.090</td>\n",
              "      <td>32.0</td>\n",
              "      <td>44.0</td>\n",
              "      <td>0.99490</td>\n",
              "      <td>3.45</td>\n",
              "      <td>0.58</td>\n",
              "      <td>10.5</td>\n",
              "      <td>5</td>\n",
              "    </tr>\n",
              "    <tr>\n",
              "      <th>6494</th>\n",
              "      <td>red</td>\n",
              "      <td>6.3</td>\n",
              "      <td>0.510</td>\n",
              "      <td>0.13</td>\n",
              "      <td>2.3</td>\n",
              "      <td>0.076</td>\n",
              "      <td>29.0</td>\n",
              "      <td>40.0</td>\n",
              "      <td>0.99574</td>\n",
              "      <td>3.42</td>\n",
              "      <td>0.75</td>\n",
              "      <td>11.0</td>\n",
              "      <td>6</td>\n",
              "    </tr>\n",
              "    <tr>\n",
              "      <th>6495</th>\n",
              "      <td>red</td>\n",
              "      <td>5.9</td>\n",
              "      <td>0.645</td>\n",
              "      <td>0.12</td>\n",
              "      <td>2.0</td>\n",
              "      <td>0.075</td>\n",
              "      <td>32.0</td>\n",
              "      <td>44.0</td>\n",
              "      <td>0.99547</td>\n",
              "      <td>3.57</td>\n",
              "      <td>0.71</td>\n",
              "      <td>10.2</td>\n",
              "      <td>5</td>\n",
              "    </tr>\n",
              "    <tr>\n",
              "      <th>6496</th>\n",
              "      <td>red</td>\n",
              "      <td>6.0</td>\n",
              "      <td>0.310</td>\n",
              "      <td>0.47</td>\n",
              "      <td>3.6</td>\n",
              "      <td>0.067</td>\n",
              "      <td>18.0</td>\n",
              "      <td>42.0</td>\n",
              "      <td>0.99549</td>\n",
              "      <td>3.39</td>\n",
              "      <td>0.66</td>\n",
              "      <td>11.0</td>\n",
              "      <td>6</td>\n",
              "    </tr>\n",
              "  </tbody>\n",
              "</table>\n",
              "<p>6463 rows × 13 columns</p>\n",
              "</div>\n",
              "      <button class=\"colab-df-convert\" onclick=\"convertToInteractive('df-50595dc3-2c8c-452d-9796-14e40b13dce0')\"\n",
              "              title=\"Convert this dataframe to an interactive table.\"\n",
              "              style=\"display:none;\">\n",
              "        \n",
              "  <svg xmlns=\"http://www.w3.org/2000/svg\" height=\"24px\"viewBox=\"0 0 24 24\"\n",
              "       width=\"24px\">\n",
              "    <path d=\"M0 0h24v24H0V0z\" fill=\"none\"/>\n",
              "    <path d=\"M18.56 5.44l.94 2.06.94-2.06 2.06-.94-2.06-.94-.94-2.06-.94 2.06-2.06.94zm-11 1L8.5 8.5l.94-2.06 2.06-.94-2.06-.94L8.5 2.5l-.94 2.06-2.06.94zm10 10l.94 2.06.94-2.06 2.06-.94-2.06-.94-.94-2.06-.94 2.06-2.06.94z\"/><path d=\"M17.41 7.96l-1.37-1.37c-.4-.4-.92-.59-1.43-.59-.52 0-1.04.2-1.43.59L10.3 9.45l-7.72 7.72c-.78.78-.78 2.05 0 2.83L4 21.41c.39.39.9.59 1.41.59.51 0 1.02-.2 1.41-.59l7.78-7.78 2.81-2.81c.8-.78.8-2.07 0-2.86zM5.41 20L4 18.59l7.72-7.72 1.47 1.35L5.41 20z\"/>\n",
              "  </svg>\n",
              "      </button>\n",
              "      \n",
              "  <style>\n",
              "    .colab-df-container {\n",
              "      display:flex;\n",
              "      flex-wrap:wrap;\n",
              "      gap: 12px;\n",
              "    }\n",
              "\n",
              "    .colab-df-convert {\n",
              "      background-color: #E8F0FE;\n",
              "      border: none;\n",
              "      border-radius: 50%;\n",
              "      cursor: pointer;\n",
              "      display: none;\n",
              "      fill: #1967D2;\n",
              "      height: 32px;\n",
              "      padding: 0 0 0 0;\n",
              "      width: 32px;\n",
              "    }\n",
              "\n",
              "    .colab-df-convert:hover {\n",
              "      background-color: #E2EBFA;\n",
              "      box-shadow: 0px 1px 2px rgba(60, 64, 67, 0.3), 0px 1px 3px 1px rgba(60, 64, 67, 0.15);\n",
              "      fill: #174EA6;\n",
              "    }\n",
              "\n",
              "    [theme=dark] .colab-df-convert {\n",
              "      background-color: #3B4455;\n",
              "      fill: #D2E3FC;\n",
              "    }\n",
              "\n",
              "    [theme=dark] .colab-df-convert:hover {\n",
              "      background-color: #434B5C;\n",
              "      box-shadow: 0px 1px 3px 1px rgba(0, 0, 0, 0.15);\n",
              "      filter: drop-shadow(0px 1px 2px rgba(0, 0, 0, 0.3));\n",
              "      fill: #FFFFFF;\n",
              "    }\n",
              "  </style>\n",
              "\n",
              "      <script>\n",
              "        const buttonEl =\n",
              "          document.querySelector('#df-50595dc3-2c8c-452d-9796-14e40b13dce0 button.colab-df-convert');\n",
              "        buttonEl.style.display =\n",
              "          google.colab.kernel.accessAllowed ? 'block' : 'none';\n",
              "\n",
              "        async function convertToInteractive(key) {\n",
              "          const element = document.querySelector('#df-50595dc3-2c8c-452d-9796-14e40b13dce0');\n",
              "          const dataTable =\n",
              "            await google.colab.kernel.invokeFunction('convertToInteractive',\n",
              "                                                     [key], {});\n",
              "          if (!dataTable) return;\n",
              "\n",
              "          const docLinkHtml = 'Like what you see? Visit the ' +\n",
              "            '<a target=\"_blank\" href=https://colab.research.google.com/notebooks/data_table.ipynb>data table notebook</a>'\n",
              "            + ' to learn more about interactive tables.';\n",
              "          element.innerHTML = '';\n",
              "          dataTable['output_type'] = 'display_data';\n",
              "          await google.colab.output.renderOutput(dataTable, element);\n",
              "          const docLink = document.createElement('div');\n",
              "          docLink.innerHTML = docLinkHtml;\n",
              "          element.appendChild(docLink);\n",
              "        }\n",
              "      </script>\n",
              "    </div>\n",
              "  </div>\n",
              "  "
            ]
          },
          "metadata": {},
          "execution_count": 18
        }
      ]
    },
    {
      "cell_type": "markdown",
      "source": [
        "Теперь мы по порядку закодируем категорию «type»:"
      ],
      "metadata": {
        "_uuid": "a1177548-56c1-4e36-bb79-bff3d4917352",
        "_cell_guid": "be6f2615-d770-47d9-a4a6-8da5e63a7b38",
        "trusted": true,
        "id": "4hspsbwiN2ph"
      }
    },
    {
      "cell_type": "code",
      "source": [
        "df_wine = df_wine.replace('red', 0)\n",
        "df_wine = df_wine.replace('white', 1)"
      ],
      "metadata": {
        "_uuid": "fc2992d3-5f79-470e-a45a-5f402c25b0e6",
        "_cell_guid": "51f04e8b-175b-4669-a163-3b64db40228e",
        "jupyter": {
          "outputs_hidden": false
        },
        "execution": {
          "iopub.status.busy": "2022-02-22T19:36:38.616496Z",
          "iopub.execute_input": "2022-02-22T19:36:38.617093Z",
          "iopub.status.idle": "2022-02-22T19:36:38.628093Z",
          "shell.execute_reply.started": "2022-02-22T19:36:38.617057Z",
          "shell.execute_reply": "2022-02-22T19:36:38.626784Z"
        },
        "trusted": true,
        "id": "uTU8qJ97N2ph"
      },
      "execution_count": null,
      "outputs": []
    },
    {
      "cell_type": "markdown",
      "source": [
        "Теперь построим гистограммы для каждой переменной:"
      ],
      "metadata": {
        "_uuid": "ddec204b-3b97-4fb6-976f-b2803f0960d1",
        "_cell_guid": "9f57e5e3-5d03-404c-9671-5d0e8e6acc7e",
        "trusted": true,
        "id": "Kpm8L3JTN2pj"
      }
    },
    {
      "cell_type": "code",
      "source": [
        "axarr = df_wine.hist(bins = 100, figsize = (20, 20))\n",
        "i=1\n",
        "for ax in axarr.flatten():\n",
        "    ax.set_xlabel(f\"{ax.get_title()} value\")\n",
        "    ax.set_ylabel(\"Quantity\")\n",
        "    title = ax.get_title() \n",
        "    ax.set_title(f\"%d: Histogram of {title}\" % (i)) \n",
        "    i=i+1\n",
        "plt.show()"
      ],
      "metadata": {
        "_uuid": "57aa424e-ae9d-4fcc-a33b-af4f23d5f4dc",
        "_cell_guid": "ea238f65-78c4-400f-84d7-d4b01e386f20",
        "jupyter": {
          "outputs_hidden": false
        },
        "execution": {
          "iopub.status.busy": "2022-02-22T19:36:38.63045Z",
          "iopub.execute_input": "2022-02-22T19:36:38.630751Z",
          "iopub.status.idle": "2022-02-22T19:36:44.338145Z",
          "shell.execute_reply.started": "2022-02-22T19:36:38.630719Z",
          "shell.execute_reply": "2022-02-22T19:36:44.337004Z"
        },
        "trusted": true,
        "id": "_eCtWQKiN2pk",
        "colab": {
          "base_uri": "https://localhost:8080/",
          "height": 995
        },
        "outputId": "8d78f4cb-7005-4dbf-c24b-0387ad9ce2b7"
      },
      "execution_count": null,
      "outputs": [
        {
          "output_type": "display_data",
          "data": {
            "text/plain": [
              "<Figure size 1440x1440 with 16 Axes>"
            ],
            "image/png": "[encoded data removed]"
          },
          "metadata": {}
        }
      ]
    },
    {
      "cell_type": "markdown",
      "source": [
        "В частности, мы покажем гистограмму целевой переменной \"quality\", и посмотрим, что является наиболее распространенным показателем качества в наборе данных."
      ],
      "metadata": {
        "_uuid": "ad00da8e-d2e0-47e8-a78d-ae080318e6be",
        "_cell_guid": "d32dde07-efbd-4aa1-a493-decbbe1478f1",
        "trusted": true,
        "id": "jIZrKbGDN2pk"
      }
    },
    {
      "cell_type": "code",
      "source": [
        "axarr = df_wine.hist(column=['quality'], bins=100, figsize=(6, 6))\n",
        "\n",
        "ax = axarr.flatten()[0]\n",
        "ax.set_xlabel(f\"{ax.get_title()} value\")\n",
        "ax.set_ylabel(\"Quantity\")\n",
        "title = ax.get_title()\n",
        "ax.set_title(f\"13. Histogram of {title}\")\n",
        "\n",
        "plt.show()"
      ],
      "metadata": {
        "_uuid": "4e2c1a46-ffa3-4094-bd1b-d507f5d1e415",
        "_cell_guid": "295812fe-9baf-43ae-a576-ccaaf9a67299",
        "jupyter": {
          "outputs_hidden": false
        },
        "execution": {
          "iopub.status.busy": "2022-02-22T19:36:44.339667Z",
          "iopub.execute_input": "2022-02-22T19:36:44.340161Z",
          "iopub.status.idle": "2022-02-22T19:36:44.852291Z",
          "shell.execute_reply.started": "2022-02-22T19:36:44.340128Z",
          "shell.execute_reply": "2022-02-22T19:36:44.851225Z"
        },
        "trusted": true,
        "id": "6OEtlKpFN2pl",
        "colab": {
          "base_uri": "https://localhost:8080/",
          "height": 408
        },
        "outputId": "a762c601-5c4a-4122-dda6-94fb3b4de8b0"
      },
      "execution_count": null,
      "outputs": [
        {
          "output_type": "display_data",
          "data": {
            "text/plain": [
              "<Figure size 432x432 with 1 Axes>"
            ],
            "image/png": "[encoded data removed]"
          },
          "metadata": {}
        }
      ]
    },
    {
      "cell_type": "markdown",
      "source": [
        "Очевидно, наибольшая частота появления у значения  '6', а наименьшая - '3', и максимальная оценка качества - '9'.\n",
        "В общем, мы можем видеть, что большинство переменных (кроме признака «тип», которая является бинарным параметром) нормально распределены. "
      ],
      "metadata": {
        "_uuid": "fec3a92a-5407-48b1-bbaa-d55e6baa411f",
        "_cell_guid": "ff63ed0d-3c72-4edf-996a-2123cb80f5f3",
        "trusted": true,
        "id": "EJxKp-9kN2pm"
      }
    },
    {
      "cell_type": "markdown",
      "source": [
        "Попробуем оценить корелляцию признаков на тепловой карте"
      ],
      "metadata": {
        "_uuid": "f44176ee-248b-4ad5-8d11-938902e6bf3c",
        "_cell_guid": "f2b54b60-29b8-45cb-befa-f92da79066db",
        "trusted": true,
        "id": "efTVCYfVN2pm"
      }
    },
    {
      "cell_type": "code",
      "source": [
        "plt.figure(figsize = (20, 10))\n",
        "sns.heatmap(df_wine.corr(), annot = True)\n",
        "plt.title('14. Correllation Matrix', fontsize = 20)\n",
        "plt.xlabel('Parameters', fontsize = 15) \n",
        "plt.ylabel('Parameters', fontsize = 15) \n",
        "plt.show()"
      ],
      "metadata": {
        "_uuid": "1bec4457-c747-4d10-86a6-038ce1500190",
        "_cell_guid": "3c190856-0466-478f-aa2a-e040e5bdbf9f",
        "jupyter": {
          "outputs_hidden": false
        },
        "execution": {
          "iopub.status.busy": "2022-02-22T19:36:44.853813Z",
          "iopub.execute_input": "2022-02-22T19:36:44.854831Z",
          "iopub.status.idle": "2022-02-22T19:36:46.207956Z",
          "shell.execute_reply.started": "2022-02-22T19:36:44.85478Z",
          "shell.execute_reply": "2022-02-22T19:36:46.207007Z"
        },
        "trusted": true,
        "id": "sVkAQxBwN2pn",
        "colab": {
          "base_uri": "https://localhost:8080/",
          "height": 635
        },
        "outputId": "b8e78cb3-48bd-4ef6-8632-3b7aab6eef1e"
      },
      "execution_count": null,
      "outputs": [
        {
          "output_type": "display_data",
          "data": {
            "text/plain": [
              "<Figure size 1440x720 with 2 Axes>"
            ],
            "image/png": "[encoded data removed]"
          },
          "metadata": {}
        }
      ]
    },
    {
      "cell_type": "markdown",
      "source": [
        "Сделаем гипотезу о том, что если между двумя разными параметрами существует корреляция выше 0.7,то она достаточно высока, поэтому мы можем удалить одну из переменных. Поэтому мы решили убрать переменную 'total sulfur dioxide' (общий диоксид серы)."
      ],
      "metadata": {
        "_uuid": "cea65ea0-c086-4861-a85a-a3a1082fafd1",
        "_cell_guid": "330bb6ce-e1d4-4af7-9917-a0315aecdcf3",
        "trusted": true,
        "id": "3qfBV7PbN2pn"
      }
    },
    {
      "cell_type": "code",
      "source": [
        "data = df_wine.drop('total sulfur dioxide',axis=1)\n",
        "data"
      ],
      "metadata": {
        "_uuid": "2fda6a68-45cc-40aa-97e0-1d91d797ff06",
        "_cell_guid": "f5065f48-9dfd-4626-8379-409ea6319232",
        "jupyter": {
          "outputs_hidden": false
        },
        "execution": {
          "iopub.status.busy": "2022-02-22T19:36:46.246205Z",
          "iopub.execute_input": "2022-02-22T19:36:46.246471Z",
          "iopub.status.idle": "2022-02-22T19:36:46.288072Z",
          "shell.execute_reply.started": "2022-02-22T19:36:46.246439Z",
          "shell.execute_reply": "2022-02-22T19:36:46.287009Z"
        },
        "trusted": true,
        "id": "ulTvo3zKN2po",
        "colab": {
          "base_uri": "https://localhost:8080/",
          "height": 485
        },
        "outputId": "451d081a-f054-45a8-8d3b-f59172e1833d"
      },
      "execution_count": null,
      "outputs": [
        {
          "output_type": "execute_result",
          "data": {
            "text/plain": [
              "      type  fixed acidity  volatile acidity  citric acid  residual sugar  \\\n",
              "0        1            7.0             0.270         0.36            20.7   \n",
              "1        1            6.3             0.300         0.34             1.6   \n",
              "2        1            8.1             0.280         0.40             6.9   \n",
              "3        1            7.2             0.230         0.32             8.5   \n",
              "4        1            7.2             0.230         0.32             8.5   \n",
              "...    ...            ...               ...          ...             ...   \n",
              "6491     0            6.8             0.620         0.08             1.9   \n",
              "6492     0            6.2             0.600         0.08             2.0   \n",
              "6494     0            6.3             0.510         0.13             2.3   \n",
              "6495     0            5.9             0.645         0.12             2.0   \n",
              "6496     0            6.0             0.310         0.47             3.6   \n",
              "\n",
              "      chlorides  free sulfur dioxide  density    pH  sulphates  alcohol  \\\n",
              "0         0.045                 45.0  1.00100  3.00       0.45      8.8   \n",
              "1         0.049                 14.0  0.99400  3.30       0.49      9.5   \n",
              "2         0.050                 30.0  0.99510  3.26       0.44     10.1   \n",
              "3         0.058                 47.0  0.99560  3.19       0.40      9.9   \n",
              "4         0.058                 47.0  0.99560  3.19       0.40      9.9   \n",
              "...         ...                  ...      ...   ...        ...      ...   \n",
              "6491      0.068                 28.0  0.99651  3.42       0.82      9.5   \n",
              "6492      0.090                 32.0  0.99490  3.45       0.58     10.5   \n",
              "6494      0.076                 29.0  0.99574  3.42       0.75     11.0   \n",
              "6495      0.075                 32.0  0.99547  3.57       0.71     10.2   \n",
              "6496      0.067                 18.0  0.99549  3.39       0.66     11.0   \n",
              "\n",
              "      quality  \n",
              "0           6  \n",
              "1           6  \n",
              "2           6  \n",
              "3           6  \n",
              "4           6  \n",
              "...       ...  \n",
              "6491        6  \n",
              "6492        5  \n",
              "6494        6  \n",
              "6495        5  \n",
              "6496        6  \n",
              "\n",
              "[6463 rows x 12 columns]"
            ],
            "text/html": [
              "\n",
              "  <div id=\"df-9c837b78-d60c-4844-9f19-8f91df69d874\">\n",
              "    <div class=\"colab-df-container\">\n",
              "      <div>\n",
              "<style scoped>\n",
              "    .dataframe tbody tr th:only-of-type {\n",
              "        vertical-align: middle;\n",
              "    }\n",
              "\n",
              "    .dataframe tbody tr th {\n",
              "        vertical-align: top;\n",
              "    }\n",
              "\n",
              "    .dataframe thead th {\n",
              "        text-align: right;\n",
              "    }\n",
              "</style>\n",
              "<table border=\"1\" class=\"dataframe\">\n",
              "  <thead>\n",
              "    <tr style=\"text-align: right;\">\n",
              "      <th></th>\n",
              "      <th>type</th>\n",
              "      <th>fixed acidity</th>\n",
              "      <th>volatile acidity</th>\n",
              "      <th>citric acid</th>\n",
              "      <th>residual sugar</th>\n",
              "      <th>chlorides</th>\n",
              "      <th>free sulfur dioxide</th>\n",
              "      <th>density</th>\n",
              "      <th>pH</th>\n",
              "      <th>sulphates</th>\n",
              "      <th>alcohol</th>\n",
              "      <th>quality</th>\n",
              "    </tr>\n",
              "  </thead>\n",
              "  <tbody>\n",
              "    <tr>\n",
              "      <th>0</th>\n",
              "      <td>1</td>\n",
              "      <td>7.0</td>\n",
              "      <td>0.270</td>\n",
              "      <td>0.36</td>\n",
              "      <td>20.7</td>\n",
              "      <td>0.045</td>\n",
              "      <td>45.0</td>\n",
              "      <td>1.00100</td>\n",
              "      <td>3.00</td>\n",
              "      <td>0.45</td>\n",
              "      <td>8.8</td>\n",
              "      <td>6</td>\n",
              "    </tr>\n",
              "    <tr>\n",
              "      <th>1</th>\n",
              "      <td>1</td>\n",
              "      <td>6.3</td>\n",
              "      <td>0.300</td>\n",
              "      <td>0.34</td>\n",
              "      <td>1.6</td>\n",
              "      <td>0.049</td>\n",
              "      <td>14.0</td>\n",
              "      <td>0.99400</td>\n",
              "      <td>3.30</td>\n",
              "      <td>0.49</td>\n",
              "      <td>9.5</td>\n",
              "      <td>6</td>\n",
              "    </tr>\n",
              "    <tr>\n",
              "      <th>2</th>\n",
              "      <td>1</td>\n",
              "      <td>8.1</td>\n",
              "      <td>0.280</td>\n",
              "      <td>0.40</td>\n",
              "      <td>6.9</td>\n",
              "      <td>0.050</td>\n",
              "      <td>30.0</td>\n",
              "      <td>0.99510</td>\n",
              "      <td>3.26</td>\n",
              "      <td>0.44</td>\n",
              "      <td>10.1</td>\n",
              "      <td>6</td>\n",
              "    </tr>\n",
              "    <tr>\n",
              "      <th>3</th>\n",
              "      <td>1</td>\n",
              "      <td>7.2</td>\n",
              "      <td>0.230</td>\n",
              "      <td>0.32</td>\n",
              "      <td>8.5</td>\n",
              "      <td>0.058</td>\n",
              "      <td>47.0</td>\n",
              "      <td>0.99560</td>\n",
              "      <td>3.19</td>\n",
              "      <td>0.40</td>\n",
              "      <td>9.9</td>\n",
              "      <td>6</td>\n",
              "    </tr>\n",
              "    <tr>\n",
              "      <th>4</th>\n",
              "      <td>1</td>\n",
              "      <td>7.2</td>\n",
              "      <td>0.230</td>\n",
              "      <td>0.32</td>\n",
              "      <td>8.5</td>\n",
              "      <td>0.058</td>\n",
              "      <td>47.0</td>\n",
              "      <td>0.99560</td>\n",
              "      <td>3.19</td>\n",
              "      <td>0.40</td>\n",
              "      <td>9.9</td>\n",
              "      <td>6</td>\n",
              "    </tr>\n",
              "    <tr>\n",
              "      <th>...</th>\n",
              "      <td>...</td>\n",
              "      <td>...</td>\n",
              "      <td>...</td>\n",
              "      <td>...</td>\n",
              "      <td>...</td>\n",
              "      <td>...</td>\n",
              "      <td>...</td>\n",
              "      <td>...</td>\n",
              "      <td>...</td>\n",
              "      <td>...</td>\n",
              "      <td>...</td>\n",
              "      <td>...</td>\n",
              "    </tr>\n",
              "    <tr>\n",
              "      <th>6491</th>\n",
              "      <td>0</td>\n",
              "      <td>6.8</td>\n",
              "      <td>0.620</td>\n",
              "      <td>0.08</td>\n",
              "      <td>1.9</td>\n",
              "      <td>0.068</td>\n",
              "      <td>28.0</td>\n",
              "      <td>0.99651</td>\n",
              "      <td>3.42</td>\n",
              "      <td>0.82</td>\n",
              "      <td>9.5</td>\n",
              "      <td>6</td>\n",
              "    </tr>\n",
              "    <tr>\n",
              "      <th>6492</th>\n",
              "      <td>0</td>\n",
              "      <td>6.2</td>\n",
              "      <td>0.600</td>\n",
              "      <td>0.08</td>\n",
              "      <td>2.0</td>\n",
              "      <td>0.090</td>\n",
              "      <td>32.0</td>\n",
              "      <td>0.99490</td>\n",
              "      <td>3.45</td>\n",
              "      <td>0.58</td>\n",
              "      <td>10.5</td>\n",
              "      <td>5</td>\n",
              "    </tr>\n",
              "    <tr>\n",
              "      <th>6494</th>\n",
              "      <td>0</td>\n",
              "      <td>6.3</td>\n",
              "      <td>0.510</td>\n",
              "      <td>0.13</td>\n",
              "      <td>2.3</td>\n",
              "      <td>0.076</td>\n",
              "      <td>29.0</td>\n",
              "      <td>0.99574</td>\n",
              "      <td>3.42</td>\n",
              "      <td>0.75</td>\n",
              "      <td>11.0</td>\n",
              "      <td>6</td>\n",
              "    </tr>\n",
              "    <tr>\n",
              "      <th>6495</th>\n",
              "      <td>0</td>\n",
              "      <td>5.9</td>\n",
              "      <td>0.645</td>\n",
              "      <td>0.12</td>\n",
              "      <td>2.0</td>\n",
              "      <td>0.075</td>\n",
              "      <td>32.0</td>\n",
              "      <td>0.99547</td>\n",
              "      <td>3.57</td>\n",
              "      <td>0.71</td>\n",
              "      <td>10.2</td>\n",
              "      <td>5</td>\n",
              "    </tr>\n",
              "    <tr>\n",
              "      <th>6496</th>\n",
              "      <td>0</td>\n",
              "      <td>6.0</td>\n",
              "      <td>0.310</td>\n",
              "      <td>0.47</td>\n",
              "      <td>3.6</td>\n",
              "      <td>0.067</td>\n",
              "      <td>18.0</td>\n",
              "      <td>0.99549</td>\n",
              "      <td>3.39</td>\n",
              "      <td>0.66</td>\n",
              "      <td>11.0</td>\n",
              "      <td>6</td>\n",
              "    </tr>\n",
              "  </tbody>\n",
              "</table>\n",
              "<p>6463 rows × 12 columns</p>\n",
              "</div>\n",
              "      <button class=\"colab-df-convert\" onclick=\"convertToInteractive('df-9c837b78-d60c-4844-9f19-8f91df69d874')\"\n",
              "              title=\"Convert this dataframe to an interactive table.\"\n",
              "              style=\"display:none;\">\n",
              "        \n",
              "  <svg xmlns=\"http://www.w3.org/2000/svg\" height=\"24px\"viewBox=\"0 0 24 24\"\n",
              "       width=\"24px\">\n",
              "    <path d=\"M0 0h24v24H0V0z\" fill=\"none\"/>\n",
              "    <path d=\"M18.56 5.44l.94 2.06.94-2.06 2.06-.94-2.06-.94-.94-2.06-.94 2.06-2.06.94zm-11 1L8.5 8.5l.94-2.06 2.06-.94-2.06-.94L8.5 2.5l-.94 2.06-2.06.94zm10 10l.94 2.06.94-2.06 2.06-.94-2.06-.94-.94-2.06-.94 2.06-2.06.94z\"/><path d=\"M17.41 7.96l-1.37-1.37c-.4-.4-.92-.59-1.43-.59-.52 0-1.04.2-1.43.59L10.3 9.45l-7.72 7.72c-.78.78-.78 2.05 0 2.83L4 21.41c.39.39.9.59 1.41.59.51 0 1.02-.2 1.41-.59l7.78-7.78 2.81-2.81c.8-.78.8-2.07 0-2.86zM5.41 20L4 18.59l7.72-7.72 1.47 1.35L5.41 20z\"/>\n",
              "  </svg>\n",
              "      </button>\n",
              "      \n",
              "  <style>\n",
              "    .colab-df-container {\n",
              "      display:flex;\n",
              "      flex-wrap:wrap;\n",
              "      gap: 12px;\n",
              "    }\n",
              "\n",
              "    .colab-df-convert {\n",
              "      background-color: #E8F0FE;\n",
              "      border: none;\n",
              "      border-radius: 50%;\n",
              "      cursor: pointer;\n",
              "      display: none;\n",
              "      fill: #1967D2;\n",
              "      height: 32px;\n",
              "      padding: 0 0 0 0;\n",
              "      width: 32px;\n",
              "    }\n",
              "\n",
              "    .colab-df-convert:hover {\n",
              "      background-color: #E2EBFA;\n",
              "      box-shadow: 0px 1px 2px rgba(60, 64, 67, 0.3), 0px 1px 3px 1px rgba(60, 64, 67, 0.15);\n",
              "      fill: #174EA6;\n",
              "    }\n",
              "\n",
              "    [theme=dark] .colab-df-convert {\n",
              "      background-color: #3B4455;\n",
              "      fill: #D2E3FC;\n",
              "    }\n",
              "\n",
              "    [theme=dark] .colab-df-convert:hover {\n",
              "      background-color: #434B5C;\n",
              "      box-shadow: 0px 1px 3px 1px rgba(0, 0, 0, 0.15);\n",
              "      filter: drop-shadow(0px 1px 2px rgba(0, 0, 0, 0.3));\n",
              "      fill: #FFFFFF;\n",
              "    }\n",
              "  </style>\n",
              "\n",
              "      <script>\n",
              "        const buttonEl =\n",
              "          document.querySelector('#df-9c837b78-d60c-4844-9f19-8f91df69d874 button.colab-df-convert');\n",
              "        buttonEl.style.display =\n",
              "          google.colab.kernel.accessAllowed ? 'block' : 'none';\n",
              "\n",
              "        async function convertToInteractive(key) {\n",
              "          const element = document.querySelector('#df-9c837b78-d60c-4844-9f19-8f91df69d874');\n",
              "          const dataTable =\n",
              "            await google.colab.kernel.invokeFunction('convertToInteractive',\n",
              "                                                     [key], {});\n",
              "          if (!dataTable) return;\n",
              "\n",
              "          const docLinkHtml = 'Like what you see? Visit the ' +\n",
              "            '<a target=\"_blank\" href=https://colab.research.google.com/notebooks/data_table.ipynb>data table notebook</a>'\n",
              "            + ' to learn more about interactive tables.';\n",
              "          element.innerHTML = '';\n",
              "          dataTable['output_type'] = 'display_data';\n",
              "          await google.colab.output.renderOutput(dataTable, element);\n",
              "          const docLink = document.createElement('div');\n",
              "          docLink.innerHTML = docLinkHtml;\n",
              "          element.appendChild(docLink);\n",
              "        }\n",
              "      </script>\n",
              "    </div>\n",
              "  </div>\n",
              "  "
            ]
          },
          "metadata": {},
          "execution_count": 24
        }
      ]
    },
    {
      "cell_type": "code",
      "source": [
        "data = pd.get_dummies(data, drop_first=True)\n",
        "data"
      ],
      "metadata": {
        "execution": {
          "iopub.status.busy": "2022-02-22T19:36:46.290787Z",
          "iopub.execute_input": "2022-02-22T19:36:46.291323Z",
          "iopub.status.idle": "2022-02-22T19:36:46.333924Z",
          "shell.execute_reply.started": "2022-02-22T19:36:46.291262Z",
          "shell.execute_reply": "2022-02-22T19:36:46.333008Z"
        },
        "trusted": true,
        "id": "ocPYRPpFN2pp",
        "colab": {
          "base_uri": "https://localhost:8080/",
          "height": 485
        },
        "outputId": "985014f5-a852-4661-b553-8bb12122650b"
      },
      "execution_count": null,
      "outputs": [
        {
          "output_type": "execute_result",
          "data": {
            "text/plain": [
              "      type  fixed acidity  volatile acidity  citric acid  residual sugar  \\\n",
              "0        1            7.0             0.270         0.36            20.7   \n",
              "1        1            6.3             0.300         0.34             1.6   \n",
              "2        1            8.1             0.280         0.40             6.9   \n",
              "3        1            7.2             0.230         0.32             8.5   \n",
              "4        1            7.2             0.230         0.32             8.5   \n",
              "...    ...            ...               ...          ...             ...   \n",
              "6491     0            6.8             0.620         0.08             1.9   \n",
              "6492     0            6.2             0.600         0.08             2.0   \n",
              "6494     0            6.3             0.510         0.13             2.3   \n",
              "6495     0            5.9             0.645         0.12             2.0   \n",
              "6496     0            6.0             0.310         0.47             3.6   \n",
              "\n",
              "      chlorides  free sulfur dioxide  density    pH  sulphates  alcohol  \\\n",
              "0         0.045                 45.0  1.00100  3.00       0.45      8.8   \n",
              "1         0.049                 14.0  0.99400  3.30       0.49      9.5   \n",
              "2         0.050                 30.0  0.99510  3.26       0.44     10.1   \n",
              "3         0.058                 47.0  0.99560  3.19       0.40      9.9   \n",
              "4         0.058                 47.0  0.99560  3.19       0.40      9.9   \n",
              "...         ...                  ...      ...   ...        ...      ...   \n",
              "6491      0.068                 28.0  0.99651  3.42       0.82      9.5   \n",
              "6492      0.090                 32.0  0.99490  3.45       0.58     10.5   \n",
              "6494      0.076                 29.0  0.99574  3.42       0.75     11.0   \n",
              "6495      0.075                 32.0  0.99547  3.57       0.71     10.2   \n",
              "6496      0.067                 18.0  0.99549  3.39       0.66     11.0   \n",
              "\n",
              "      quality  \n",
              "0           6  \n",
              "1           6  \n",
              "2           6  \n",
              "3           6  \n",
              "4           6  \n",
              "...       ...  \n",
              "6491        6  \n",
              "6492        5  \n",
              "6494        6  \n",
              "6495        5  \n",
              "6496        6  \n",
              "\n",
              "[6463 rows x 12 columns]"
            ],
            "text/html": [
              "\n",
              "  <div id=\"df-651d1187-57a2-498d-ac7b-9c20044b6e45\">\n",
              "    <div class=\"colab-df-container\">\n",
              "      <div>\n",
              "<style scoped>\n",
              "    .dataframe tbody tr th:only-of-type {\n",
              "        vertical-align: middle;\n",
              "    }\n",
              "\n",
              "    .dataframe tbody tr th {\n",
              "        vertical-align: top;\n",
              "    }\n",
              "\n",
              "    .dataframe thead th {\n",
              "        text-align: right;\n",
              "    }\n",
              "</style>\n",
              "<table border=\"1\" class=\"dataframe\">\n",
              "  <thead>\n",
              "    <tr style=\"text-align: right;\">\n",
              "      <th></th>\n",
              "      <th>type</th>\n",
              "      <th>fixed acidity</th>\n",
              "      <th>volatile acidity</th>\n",
              "      <th>citric acid</th>\n",
              "      <th>residual sugar</th>\n",
              "      <th>chlorides</th>\n",
              "      <th>free sulfur dioxide</th>\n",
              "      <th>density</th>\n",
              "      <th>pH</th>\n",
              "      <th>sulphates</th>\n",
              "      <th>alcohol</th>\n",
              "      <th>quality</th>\n",
              "    </tr>\n",
              "  </thead>\n",
              "  <tbody>\n",
              "    <tr>\n",
              "      <th>0</th>\n",
              "      <td>1</td>\n",
              "      <td>7.0</td>\n",
              "      <td>0.270</td>\n",
              "      <td>0.36</td>\n",
              "      <td>20.7</td>\n",
              "      <td>0.045</td>\n",
              "      <td>45.0</td>\n",
              "      <td>1.00100</td>\n",
              "      <td>3.00</td>\n",
              "      <td>0.45</td>\n",
              "      <td>8.8</td>\n",
              "      <td>6</td>\n",
              "    </tr>\n",
              "    <tr>\n",
              "      <th>1</th>\n",
              "      <td>1</td>\n",
              "      <td>6.3</td>\n",
              "      <td>0.300</td>\n",
              "      <td>0.34</td>\n",
              "      <td>1.6</td>\n",
              "      <td>0.049</td>\n",
              "      <td>14.0</td>\n",
              "      <td>0.99400</td>\n",
              "      <td>3.30</td>\n",
              "      <td>0.49</td>\n",
              "      <td>9.5</td>\n",
              "      <td>6</td>\n",
              "    </tr>\n",
              "    <tr>\n",
              "      <th>2</th>\n",
              "      <td>1</td>\n",
              "      <td>8.1</td>\n",
              "      <td>0.280</td>\n",
              "      <td>0.40</td>\n",
              "      <td>6.9</td>\n",
              "      <td>0.050</td>\n",
              "      <td>30.0</td>\n",
              "      <td>0.99510</td>\n",
              "      <td>3.26</td>\n",
              "      <td>0.44</td>\n",
              "      <td>10.1</td>\n",
              "      <td>6</td>\n",
              "    </tr>\n",
              "    <tr>\n",
              "      <th>3</th>\n",
              "      <td>1</td>\n",
              "      <td>7.2</td>\n",
              "      <td>0.230</td>\n",
              "      <td>0.32</td>\n",
              "      <td>8.5</td>\n",
              "      <td>0.058</td>\n",
              "      <td>47.0</td>\n",
              "      <td>0.99560</td>\n",
              "      <td>3.19</td>\n",
              "      <td>0.40</td>\n",
              "      <td>9.9</td>\n",
              "      <td>6</td>\n",
              "    </tr>\n",
              "    <tr>\n",
              "      <th>4</th>\n",
              "      <td>1</td>\n",
              "      <td>7.2</td>\n",
              "      <td>0.230</td>\n",
              "      <td>0.32</td>\n",
              "      <td>8.5</td>\n",
              "      <td>0.058</td>\n",
              "      <td>47.0</td>\n",
              "      <td>0.99560</td>\n",
              "      <td>3.19</td>\n",
              "      <td>0.40</td>\n",
              "      <td>9.9</td>\n",
              "      <td>6</td>\n",
              "    </tr>\n",
              "    <tr>\n",
              "      <th>...</th>\n",
              "      <td>...</td>\n",
              "      <td>...</td>\n",
              "      <td>...</td>\n",
              "      <td>...</td>\n",
              "      <td>...</td>\n",
              "      <td>...</td>\n",
              "      <td>...</td>\n",
              "      <td>...</td>\n",
              "      <td>...</td>\n",
              "      <td>...</td>\n",
              "      <td>...</td>\n",
              "      <td>...</td>\n",
              "    </tr>\n",
              "    <tr>\n",
              "      <th>6491</th>\n",
              "      <td>0</td>\n",
              "      <td>6.8</td>\n",
              "      <td>0.620</td>\n",
              "      <td>0.08</td>\n",
              "      <td>1.9</td>\n",
              "      <td>0.068</td>\n",
              "      <td>28.0</td>\n",
              "      <td>0.99651</td>\n",
              "      <td>3.42</td>\n",
              "      <td>0.82</td>\n",
              "      <td>9.5</td>\n",
              "      <td>6</td>\n",
              "    </tr>\n",
              "    <tr>\n",
              "      <th>6492</th>\n",
              "      <td>0</td>\n",
              "      <td>6.2</td>\n",
              "      <td>0.600</td>\n",
              "      <td>0.08</td>\n",
              "      <td>2.0</td>\n",
              "      <td>0.090</td>\n",
              "      <td>32.0</td>\n",
              "      <td>0.99490</td>\n",
              "      <td>3.45</td>\n",
              "      <td>0.58</td>\n",
              "      <td>10.5</td>\n",
              "      <td>5</td>\n",
              "    </tr>\n",
              "    <tr>\n",
              "      <th>6494</th>\n",
              "      <td>0</td>\n",
              "      <td>6.3</td>\n",
              "      <td>0.510</td>\n",
              "      <td>0.13</td>\n",
              "      <td>2.3</td>\n",
              "      <td>0.076</td>\n",
              "      <td>29.0</td>\n",
              "      <td>0.99574</td>\n",
              "      <td>3.42</td>\n",
              "      <td>0.75</td>\n",
              "      <td>11.0</td>\n",
              "      <td>6</td>\n",
              "    </tr>\n",
              "    <tr>\n",
              "      <th>6495</th>\n",
              "      <td>0</td>\n",
              "      <td>5.9</td>\n",
              "      <td>0.645</td>\n",
              "      <td>0.12</td>\n",
              "      <td>2.0</td>\n",
              "      <td>0.075</td>\n",
              "      <td>32.0</td>\n",
              "      <td>0.99547</td>\n",
              "      <td>3.57</td>\n",
              "      <td>0.71</td>\n",
              "      <td>10.2</td>\n",
              "      <td>5</td>\n",
              "    </tr>\n",
              "    <tr>\n",
              "      <th>6496</th>\n",
              "      <td>0</td>\n",
              "      <td>6.0</td>\n",
              "      <td>0.310</td>\n",
              "      <td>0.47</td>\n",
              "      <td>3.6</td>\n",
              "      <td>0.067</td>\n",
              "      <td>18.0</td>\n",
              "      <td>0.99549</td>\n",
              "      <td>3.39</td>\n",
              "      <td>0.66</td>\n",
              "      <td>11.0</td>\n",
              "      <td>6</td>\n",
              "    </tr>\n",
              "  </tbody>\n",
              "</table>\n",
              "<p>6463 rows × 12 columns</p>\n",
              "</div>\n",
              "      <button class=\"colab-df-convert\" onclick=\"convertToInteractive('df-651d1187-57a2-498d-ac7b-9c20044b6e45')\"\n",
              "              title=\"Convert this dataframe to an interactive table.\"\n",
              "              style=\"display:none;\">\n",
              "        \n",
              "  <svg xmlns=\"http://www.w3.org/2000/svg\" height=\"24px\"viewBox=\"0 0 24 24\"\n",
              "       width=\"24px\">\n",
              "    <path d=\"M0 0h24v24H0V0z\" fill=\"none\"/>\n",
              "    <path d=\"M18.56 5.44l.94 2.06.94-2.06 2.06-.94-2.06-.94-.94-2.06-.94 2.06-2.06.94zm-11 1L8.5 8.5l.94-2.06 2.06-.94-2.06-.94L8.5 2.5l-.94 2.06-2.06.94zm10 10l.94 2.06.94-2.06 2.06-.94-2.06-.94-.94-2.06-.94 2.06-2.06.94z\"/><path d=\"M17.41 7.96l-1.37-1.37c-.4-.4-.92-.59-1.43-.59-.52 0-1.04.2-1.43.59L10.3 9.45l-7.72 7.72c-.78.78-.78 2.05 0 2.83L4 21.41c.39.39.9.59 1.41.59.51 0 1.02-.2 1.41-.59l7.78-7.78 2.81-2.81c.8-.78.8-2.07 0-2.86zM5.41 20L4 18.59l7.72-7.72 1.47 1.35L5.41 20z\"/>\n",
              "  </svg>\n",
              "      </button>\n",
              "      \n",
              "  <style>\n",
              "    .colab-df-container {\n",
              "      display:flex;\n",
              "      flex-wrap:wrap;\n",
              "      gap: 12px;\n",
              "    }\n",
              "\n",
              "    .colab-df-convert {\n",
              "      background-color: #E8F0FE;\n",
              "      border: none;\n",
              "      border-radius: 50%;\n",
              "      cursor: pointer;\n",
              "      display: none;\n",
              "      fill: #1967D2;\n",
              "      height: 32px;\n",
              "      padding: 0 0 0 0;\n",
              "      width: 32px;\n",
              "    }\n",
              "\n",
              "    .colab-df-convert:hover {\n",
              "      background-color: #E2EBFA;\n",
              "      box-shadow: 0px 1px 2px rgba(60, 64, 67, 0.3), 0px 1px 3px 1px rgba(60, 64, 67, 0.15);\n",
              "      fill: #174EA6;\n",
              "    }\n",
              "\n",
              "    [theme=dark] .colab-df-convert {\n",
              "      background-color: #3B4455;\n",
              "      fill: #D2E3FC;\n",
              "    }\n",
              "\n",
              "    [theme=dark] .colab-df-convert:hover {\n",
              "      background-color: #434B5C;\n",
              "      box-shadow: 0px 1px 3px 1px rgba(0, 0, 0, 0.15);\n",
              "      filter: drop-shadow(0px 1px 2px rgba(0, 0, 0, 0.3));\n",
              "      fill: #FFFFFF;\n",
              "    }\n",
              "  </style>\n",
              "\n",
              "      <script>\n",
              "        const buttonEl =\n",
              "          document.querySelector('#df-651d1187-57a2-498d-ac7b-9c20044b6e45 button.colab-df-convert');\n",
              "        buttonEl.style.display =\n",
              "          google.colab.kernel.accessAllowed ? 'block' : 'none';\n",
              "\n",
              "        async function convertToInteractive(key) {\n",
              "          const element = document.querySelector('#df-651d1187-57a2-498d-ac7b-9c20044b6e45');\n",
              "          const dataTable =\n",
              "            await google.colab.kernel.invokeFunction('convertToInteractive',\n",
              "                                                     [key], {});\n",
              "          if (!dataTable) return;\n",
              "\n",
              "          const docLinkHtml = 'Like what you see? Visit the ' +\n",
              "            '<a target=\"_blank\" href=https://colab.research.google.com/notebooks/data_table.ipynb>data table notebook</a>'\n",
              "            + ' to learn more about interactive tables.';\n",
              "          element.innerHTML = '';\n",
              "          dataTable['output_type'] = 'display_data';\n",
              "          await google.colab.output.renderOutput(dataTable, element);\n",
              "          const docLink = document.createElement('div');\n",
              "          docLink.innerHTML = docLinkHtml;\n",
              "          element.appendChild(docLink);\n",
              "        }\n",
              "      </script>\n",
              "    </div>\n",
              "  </div>\n",
              "  "
            ]
          },
          "metadata": {},
          "execution_count": 25
        }
      ]
    },
    {
      "cell_type": "markdown",
      "source": [
        "Теперь заметим, что, поскольку наш набор данных несбалансирован (т.е. есть параметры, которые имеют большие диапазоны по сравнению с другими), мы нормализуем каждую функцию, чтобы она находилась в диапазоне [0, 1]."
      ],
      "metadata": {
        "_uuid": "49462163-e5e4-4971-8381-b7ebad0370c6",
        "_cell_guid": "e91f6841-300e-446d-91f5-e985f844785e",
        "trusted": true,
        "id": "_Lc5C9nuN2pp"
      }
    },
    {
      "cell_type": "code",
      "source": [
        "from sklearn.preprocessing import MinMaxScaler, LabelBinarizer"
      ],
      "metadata": {
        "id": "WDfQjIuUwQnd"
      },
      "execution_count": null,
      "outputs": []
    },
    {
      "cell_type": "code",
      "source": [
        "scaler = MinMaxScaler()\n",
        "data_fit = scaler.fit(data)\n",
        "data_fit = data_fit.transform(data)\n",
        "\n",
        "# Reconstructing the dataset\n",
        "data = pd.DataFrame(data_fit, columns=['type', 'fixed acidity','volatile acidity','citric acid','residual sugar','chlorides','free sulfur dioxide','density','pH','sulphates','alcohol','quality'])\n",
        "data.head()"
      ],
      "metadata": {
        "_uuid": "455732ae-08f8-4ef9-902d-772844b233e6",
        "_cell_guid": "c544cc35-8c5e-4a5a-8f8f-e98159d4dfd8",
        "jupyter": {
          "outputs_hidden": false
        },
        "execution": {
          "iopub.status.busy": "2022-02-22T19:36:46.33749Z",
          "iopub.execute_input": "2022-02-22T19:36:46.337788Z",
          "iopub.status.idle": "2022-02-22T19:36:46.36919Z",
          "shell.execute_reply.started": "2022-02-22T19:36:46.337753Z",
          "shell.execute_reply": "2022-02-22T19:36:46.368214Z"
        },
        "trusted": true,
        "id": "1oGdfkPWN2pq",
        "colab": {
          "base_uri": "https://localhost:8080/",
          "height": 268
        },
        "outputId": "44a097ed-ae43-4d04-add2-0d52f50bb58a"
      },
      "execution_count": null,
      "outputs": [
        {
          "output_type": "execute_result",
          "data": {
            "text/plain": [
              "   type  fixed acidity  volatile acidity  citric acid  residual sugar  \\\n",
              "0   1.0       0.264463          0.126667     0.216867        0.308282   \n",
              "1   1.0       0.206612          0.146667     0.204819        0.015337   \n",
              "2   1.0       0.355372          0.133333     0.240964        0.096626   \n",
              "3   1.0       0.280992          0.100000     0.192771        0.121166   \n",
              "4   1.0       0.280992          0.100000     0.192771        0.121166   \n",
              "\n",
              "   chlorides  free sulfur dioxide   density        pH  sulphates   alcohol  \\\n",
              "0   0.059801             0.152778  0.267785  0.217054   0.129213  0.115942   \n",
              "1   0.066445             0.045139  0.132832  0.449612   0.151685  0.217391   \n",
              "2   0.068106             0.100694  0.154039  0.418605   0.123596  0.304348   \n",
              "3   0.081395             0.159722  0.163678  0.364341   0.101124  0.275362   \n",
              "4   0.081395             0.159722  0.163678  0.364341   0.101124  0.275362   \n",
              "\n",
              "   quality  \n",
              "0      0.5  \n",
              "1      0.5  \n",
              "2      0.5  \n",
              "3      0.5  \n",
              "4      0.5  "
            ],
            "text/html": [
              "\n",
              "  <div id=\"df-6b62ce13-5ca5-4044-9bcd-6e26381d86de\">\n",
              "    <div class=\"colab-df-container\">\n",
              "      <div>\n",
              "<style scoped>\n",
              "    .dataframe tbody tr th:only-of-type {\n",
              "        vertical-align: middle;\n",
              "    }\n",
              "\n",
              "    .dataframe tbody tr th {\n",
              "        vertical-align: top;\n",
              "    }\n",
              "\n",
              "    .dataframe thead th {\n",
              "        text-align: right;\n",
              "    }\n",
              "</style>\n",
              "<table border=\"1\" class=\"dataframe\">\n",
              "  <thead>\n",
              "    <tr style=\"text-align: right;\">\n",
              "      <th></th>\n",
              "      <th>type</th>\n",
              "      <th>fixed acidity</th>\n",
              "      <th>volatile acidity</th>\n",
              "      <th>citric acid</th>\n",
              "      <th>residual sugar</th>\n",
              "      <th>chlorides</th>\n",
              "      <th>free sulfur dioxide</th>\n",
              "      <th>density</th>\n",
              "      <th>pH</th>\n",
              "      <th>sulphates</th>\n",
              "      <th>alcohol</th>\n",
              "      <th>quality</th>\n",
              "    </tr>\n",
              "  </thead>\n",
              "  <tbody>\n",
              "    <tr>\n",
              "      <th>0</th>\n",
              "      <td>1.0</td>\n",
              "      <td>0.264463</td>\n",
              "      <td>0.126667</td>\n",
              "      <td>0.216867</td>\n",
              "      <td>0.308282</td>\n",
              "      <td>0.059801</td>\n",
              "      <td>0.152778</td>\n",
              "      <td>0.267785</td>\n",
              "      <td>0.217054</td>\n",
              "      <td>0.129213</td>\n",
              "      <td>0.115942</td>\n",
              "      <td>0.5</td>\n",
              "    </tr>\n",
              "    <tr>\n",
              "      <th>1</th>\n",
              "      <td>1.0</td>\n",
              "      <td>0.206612</td>\n",
              "      <td>0.146667</td>\n",
              "      <td>0.204819</td>\n",
              "      <td>0.015337</td>\n",
              "      <td>0.066445</td>\n",
              "      <td>0.045139</td>\n",
              "      <td>0.132832</td>\n",
              "      <td>0.449612</td>\n",
              "      <td>0.151685</td>\n",
              "      <td>0.217391</td>\n",
              "      <td>0.5</td>\n",
              "    </tr>\n",
              "    <tr>\n",
              "      <th>2</th>\n",
              "      <td>1.0</td>\n",
              "      <td>0.355372</td>\n",
              "      <td>0.133333</td>\n",
              "      <td>0.240964</td>\n",
              "      <td>0.096626</td>\n",
              "      <td>0.068106</td>\n",
              "      <td>0.100694</td>\n",
              "      <td>0.154039</td>\n",
              "      <td>0.418605</td>\n",
              "      <td>0.123596</td>\n",
              "      <td>0.304348</td>\n",
              "      <td>0.5</td>\n",
              "    </tr>\n",
              "    <tr>\n",
              "      <th>3</th>\n",
              "      <td>1.0</td>\n",
              "      <td>0.280992</td>\n",
              "      <td>0.100000</td>\n",
              "      <td>0.192771</td>\n",
              "      <td>0.121166</td>\n",
              "      <td>0.081395</td>\n",
              "      <td>0.159722</td>\n",
              "      <td>0.163678</td>\n",
              "      <td>0.364341</td>\n",
              "      <td>0.101124</td>\n",
              "      <td>0.275362</td>\n",
              "      <td>0.5</td>\n",
              "    </tr>\n",
              "    <tr>\n",
              "      <th>4</th>\n",
              "      <td>1.0</td>\n",
              "      <td>0.280992</td>\n",
              "      <td>0.100000</td>\n",
              "      <td>0.192771</td>\n",
              "      <td>0.121166</td>\n",
              "      <td>0.081395</td>\n",
              "      <td>0.159722</td>\n",
              "      <td>0.163678</td>\n",
              "      <td>0.364341</td>\n",
              "      <td>0.101124</td>\n",
              "      <td>0.275362</td>\n",
              "      <td>0.5</td>\n",
              "    </tr>\n",
              "  </tbody>\n",
              "</table>\n",
              "</div>\n",
              "      <button class=\"colab-df-convert\" onclick=\"convertToInteractive('df-6b62ce13-5ca5-4044-9bcd-6e26381d86de')\"\n",
              "              title=\"Convert this dataframe to an interactive table.\"\n",
              "              style=\"display:none;\">\n",
              "        \n",
              "  <svg xmlns=\"http://www.w3.org/2000/svg\" height=\"24px\"viewBox=\"0 0 24 24\"\n",
              "       width=\"24px\">\n",
              "    <path d=\"M0 0h24v24H0V0z\" fill=\"none\"/>\n",
              "    <path d=\"M18.56 5.44l.94 2.06.94-2.06 2.06-.94-2.06-.94-.94-2.06-.94 2.06-2.06.94zm-11 1L8.5 8.5l.94-2.06 2.06-.94-2.06-.94L8.5 2.5l-.94 2.06-2.06.94zm10 10l.94 2.06.94-2.06 2.06-.94-2.06-.94-.94-2.06-.94 2.06-2.06.94z\"/><path d=\"M17.41 7.96l-1.37-1.37c-.4-.4-.92-.59-1.43-.59-.52 0-1.04.2-1.43.59L10.3 9.45l-7.72 7.72c-.78.78-.78 2.05 0 2.83L4 21.41c.39.39.9.59 1.41.59.51 0 1.02-.2 1.41-.59l7.78-7.78 2.81-2.81c.8-.78.8-2.07 0-2.86zM5.41 20L4 18.59l7.72-7.72 1.47 1.35L5.41 20z\"/>\n",
              "  </svg>\n",
              "      </button>\n",
              "      \n",
              "  <style>\n",
              "    .colab-df-container {\n",
              "      display:flex;\n",
              "      flex-wrap:wrap;\n",
              "      gap: 12px;\n",
              "    }\n",
              "\n",
              "    .colab-df-convert {\n",
              "      background-color: #E8F0FE;\n",
              "      border: none;\n",
              "      border-radius: 50%;\n",
              "      cursor: pointer;\n",
              "      display: none;\n",
              "      fill: #1967D2;\n",
              "      height: 32px;\n",
              "      padding: 0 0 0 0;\n",
              "      width: 32px;\n",
              "    }\n",
              "\n",
              "    .colab-df-convert:hover {\n",
              "      background-color: #E2EBFA;\n",
              "      box-shadow: 0px 1px 2px rgba(60, 64, 67, 0.3), 0px 1px 3px 1px rgba(60, 64, 67, 0.15);\n",
              "      fill: #174EA6;\n",
              "    }\n",
              "\n",
              "    [theme=dark] .colab-df-convert {\n",
              "      background-color: #3B4455;\n",
              "      fill: #D2E3FC;\n",
              "    }\n",
              "\n",
              "    [theme=dark] .colab-df-convert:hover {\n",
              "      background-color: #434B5C;\n",
              "      box-shadow: 0px 1px 3px 1px rgba(0, 0, 0, 0.15);\n",
              "      filter: drop-shadow(0px 1px 2px rgba(0, 0, 0, 0.3));\n",
              "      fill: #FFFFFF;\n",
              "    }\n",
              "  </style>\n",
              "\n",
              "      <script>\n",
              "        const buttonEl =\n",
              "          document.querySelector('#df-6b62ce13-5ca5-4044-9bcd-6e26381d86de button.colab-df-convert');\n",
              "        buttonEl.style.display =\n",
              "          google.colab.kernel.accessAllowed ? 'block' : 'none';\n",
              "\n",
              "        async function convertToInteractive(key) {\n",
              "          const element = document.querySelector('#df-6b62ce13-5ca5-4044-9bcd-6e26381d86de');\n",
              "          const dataTable =\n",
              "            await google.colab.kernel.invokeFunction('convertToInteractive',\n",
              "                                                     [key], {});\n",
              "          if (!dataTable) return;\n",
              "\n",
              "          const docLinkHtml = 'Like what you see? Visit the ' +\n",
              "            '<a target=\"_blank\" href=https://colab.research.google.com/notebooks/data_table.ipynb>data table notebook</a>'\n",
              "            + ' to learn more about interactive tables.';\n",
              "          element.innerHTML = '';\n",
              "          dataTable['output_type'] = 'display_data';\n",
              "          await google.colab.output.renderOutput(dataTable, element);\n",
              "          const docLink = document.createElement('div');\n",
              "          docLink.innerHTML = docLinkHtml;\n",
              "          element.appendChild(docLink);\n",
              "        }\n",
              "      </script>\n",
              "    </div>\n",
              "  </div>\n",
              "  "
            ]
          },
          "metadata": {},
          "execution_count": 27
        }
      ]
    },
    {
      "cell_type": "markdown",
      "source": [
        "### 4. Разбиение данных на train и test части"
      ],
      "metadata": {
        "_uuid": "28f22843-5cf6-4507-94d5-3268ad24addf",
        "_cell_guid": "a850d178-2042-4c0a-a272-749567be29f0",
        "trusted": true,
        "id": "0VNbFESJN2pq"
      }
    },
    {
      "cell_type": "code",
      "source": [
        "X = data[['type', 'fixed acidity','volatile acidity','citric acid','residual sugar','chlorides','free sulfur dioxide','density','pH','sulphates','alcohol']]\n",
        "y = data.quality\n",
        "\n",
        "# 80% train set, 20% test set\n",
        "X_train, X_test, y_train, y_test = train_test_split(X, y, train_size = 0.8, random_state = 42)"
      ],
      "metadata": {
        "_uuid": "3770329b-ab8b-4e01-97af-b956505dc2bf",
        "_cell_guid": "274120e1-8922-457f-bab8-7290079e0266",
        "jupyter": {
          "outputs_hidden": false
        },
        "execution": {
          "iopub.status.busy": "2022-02-22T19:36:46.370947Z",
          "iopub.execute_input": "2022-02-22T19:36:46.37129Z",
          "iopub.status.idle": "2022-02-22T19:36:46.384018Z",
          "shell.execute_reply.started": "2022-02-22T19:36:46.371242Z",
          "shell.execute_reply": "2022-02-22T19:36:46.382378Z"
        },
        "trusted": true,
        "id": "Z1h02v7DN2pq"
      },
      "execution_count": null,
      "outputs": []
    },
    {
      "cell_type": "markdown",
      "source": [
        "# 5. Моделирование\n",
        "## 5.1 Разработка и обучение модели на основе 6 экспериментов"
      ],
      "metadata": {
        "_uuid": "e76b43cc-306d-4773-a8e4-720963266407",
        "_cell_guid": "f3b24e12-c55c-4a6d-bc6e-78d13a3bb99e",
        "trusted": true,
        "id": "xcZTAlj0N2pr"
      }
    },
    {
      "cell_type": "markdown",
      "source": [
        "Во-первых, давайте введем следующую функцию, которая вычисляет RMSE между тестовыми и прогнозируемыми значениями:"
      ],
      "metadata": {
        "_uuid": "e713c229-9869-461d-a7d1-79df746ce048",
        "_cell_guid": "d5db6282-b44c-437a-aa28-1e3abff9e177",
        "trusted": true,
        "id": "BoDO3royN2pr"
      }
    },
    {
      "cell_type": "code",
      "source": [
        "def get_rmse(y_test, predictions):\n",
        "    return mean_squared_error(y_test, predictions) ** 0.5"
      ],
      "metadata": {
        "_uuid": "c519e3fa-e975-4758-958b-cfa253524edf",
        "_cell_guid": "e581e9ab-9a17-400c-b7ac-2048f4e9aab8",
        "jupyter": {
          "outputs_hidden": false
        },
        "execution": {
          "iopub.status.busy": "2022-02-22T19:36:46.386201Z",
          "iopub.execute_input": "2022-02-22T19:36:46.386607Z",
          "iopub.status.idle": "2022-02-22T19:36:46.393032Z",
          "shell.execute_reply.started": "2022-02-22T19:36:46.386557Z",
          "shell.execute_reply": "2022-02-22T19:36:46.392153Z"
        },
        "trusted": true,
        "id": "0mxnrUIgN2pr"
      },
      "execution_count": null,
      "outputs": []
    },
    {
      "cell_type": "markdown",
      "source": [
        "В следующих 6 экспериментах мы проверяем взаимосвязь между каждым параметром модели RandomForestRegressor и RMSE, обучая 10-20 моделей в каждом эксперименте с одинаковыми параметрами, кроме параметра, который мы хотим проверить. Затем каждая модель делает прогнозы, которые затем оцениваются функцией get_rmse().\n",
        "\n",
        "### Experiment #1: 'n_estimators'"
      ],
      "metadata": {
        "_uuid": "5170b7dd-6095-4d0a-8435-67fccee9c967",
        "_cell_guid": "82b0aa22-5fa7-4ffc-95a0-f00c4bab2b0d",
        "trusted": true,
        "id": "HiwL07PRN2ps"
      }
    },
    {
      "cell_type": "code",
      "source": [
        "# Creating the 10 models\n",
        "n_estimators = [50 + i*50 for i in range(10)]\n",
        "models_n_estimators = [RandomForestRegressor(n_estimators = n_estimators[i], random_state = 42) for i in range(10)]\n",
        "\n",
        "n_estimators_rmses = []\n",
        "   \n",
        "# Fitting the models and making predictions    \n",
        "for model in models_n_estimators:                   \n",
        "    model.fit(X_train, y_train)\n",
        "    predictions = model.predict(X_test)\n",
        "    rmse = get_rmse(y_test, predictions)\n",
        "    n_estimators_rmses += [rmse]\n",
        "    print(f\"RMSE of model with n_estimators={model.n_estimators}: {rmse:.5f}\")\n",
        "\n",
        "# Plotting the RMSEs\n",
        "plt.plot(n_estimators, n_estimators_rmses)\n",
        "plt.title(\"15. RMSE vs n_estimators\")\n",
        "plt.xlabel(\"n_estimators\")\n",
        "plt.ylabel(\"rmse\")\n",
        "plt.show()"
      ],
      "metadata": {
        "_uuid": "225f100f-5d08-4941-89aa-5856269bc3c9",
        "_cell_guid": "8be07369-7777-4469-a6ec-9d51d92a90ab",
        "jupyter": {
          "outputs_hidden": false
        },
        "execution": {
          "iopub.status.busy": "2022-02-22T19:36:46.394267Z",
          "iopub.execute_input": "2022-02-22T19:36:46.395106Z",
          "iopub.status.idle": "2022-02-22T19:37:59.135747Z",
          "shell.execute_reply.started": "2022-02-22T19:36:46.39507Z",
          "shell.execute_reply": "2022-02-22T19:37:59.134737Z"
        },
        "trusted": true,
        "id": "KjInK2rvN2ps",
        "colab": {
          "base_uri": "https://localhost:8080/",
          "height": 582
        },
        "outputId": "dce6b82a-9b95-4801-8f31-ec8c89fea4b2"
      },
      "execution_count": null,
      "outputs": [
        {
          "output_type": "stream",
          "name": "stdout",
          "text": [
            "RMSE of model with n_estimators=50: 0.10626\n",
            "RMSE of model with n_estimators=100: 0.10542\n",
            "RMSE of model with n_estimators=150: 0.10524\n",
            "RMSE of model with n_estimators=200: 0.10495\n",
            "RMSE of model with n_estimators=250: 0.10481\n",
            "RMSE of model with n_estimators=300: 0.10474\n",
            "RMSE of model with n_estimators=350: 0.10465\n",
            "RMSE of model with n_estimators=400: 0.10456\n",
            "RMSE of model with n_estimators=450: 0.10442\n",
            "RMSE of model with n_estimators=500: 0.10445\n"
          ]
        },
        {
          "output_type": "display_data",
          "data": {
            "text/plain": [
              "<Figure size 576x432 with 1 Axes>"
            ],
            "image/png": "[encoded data removed]"
          },
          "metadata": {}
        }
      ]
    },
    {
      "cell_type": "markdown",
      "source": [
        "### Experiment #2: 'max_depth'"
      ],
      "metadata": {
        "_uuid": "917369a9-490d-42da-8d45-13d09437513d",
        "_cell_guid": "84182ead-2f8b-4629-9766-d500fd731e8c",
        "trusted": true,
        "id": "Z0cY_PESN2ps"
      }
    },
    {
      "cell_type": "code",
      "source": [
        "# Creating the 10 models\n",
        "max_depths = [10 + i*10 for i in range(10)]\n",
        "models_max_depths = [RandomForestRegressor(max_depth = max_depths[i], random_state = 42) for i in range(10)]\n",
        "\n",
        "max_depths_rmses = []\n",
        "\n",
        "# Fitting the models and making predictions\n",
        "for model in models_max_depths:                   \n",
        "    model.fit(X_train, y_train)\n",
        "    predictions = model.predict(X_test)\n",
        "    rmse = get_rmse(y_test, predictions)\n",
        "    max_depths_rmses += [rmse]\n",
        "    print(f\"RMSE of model with max_depth={model.max_depth}: {rmse:.5f}\")\n",
        "\n",
        "# Plotting the RMSEs\n",
        "plt.plot(max_depths, max_depths_rmses)\n",
        "plt.title(\"16. RMSE vs max_depth\")\n",
        "plt.xlabel(\"max_depth\")\n",
        "plt.ylabel(\"rmse\")\n",
        "plt.show()"
      ],
      "metadata": {
        "_uuid": "a4b56ac0-1fb4-432a-b167-6912b9b2c063",
        "_cell_guid": "b0fbea77-234a-4f1c-82f1-e3427ffd4f8c",
        "jupyter": {
          "outputs_hidden": false
        },
        "execution": {
          "iopub.status.busy": "2022-02-22T19:37:59.137114Z",
          "iopub.execute_input": "2022-02-22T19:37:59.137395Z",
          "iopub.status.idle": "2022-02-22T19:38:25.096614Z",
          "shell.execute_reply.started": "2022-02-22T19:37:59.137352Z",
          "shell.execute_reply": "2022-02-22T19:38:25.095623Z"
        },
        "trusted": true,
        "id": "WSd7iwvZN2ps",
        "colab": {
          "base_uri": "https://localhost:8080/",
          "height": 582
        },
        "outputId": "2f9aecd3-3f9e-4f7f-ebf2-a48ee5b105cd"
      },
      "execution_count": null,
      "outputs": [
        {
          "output_type": "stream",
          "name": "stdout",
          "text": [
            "RMSE of model with max_depth=10: 0.11103\n",
            "RMSE of model with max_depth=20: 0.10525\n",
            "RMSE of model with max_depth=30: 0.10539\n",
            "RMSE of model with max_depth=40: 0.10542\n",
            "RMSE of model with max_depth=50: 0.10542\n",
            "RMSE of model with max_depth=60: 0.10542\n",
            "RMSE of model with max_depth=70: 0.10542\n",
            "RMSE of model with max_depth=80: 0.10542\n",
            "RMSE of model with max_depth=90: 0.10542\n",
            "RMSE of model with max_depth=100: 0.10542\n"
          ]
        },
        {
          "output_type": "display_data",
          "data": {
            "text/plain": [
              "<Figure size 576x432 with 1 Axes>"
            ],
            "image/png": "[encoded data removed]"
          },
          "metadata": {}
        }
      ]
    },
    {
      "cell_type": "markdown",
      "source": [
        "### Experiment #3: 'min_samples_splits'\n",
        "В этом эксперименте вместо создания 10 моделей мы создадим 20 моделей для повышения точности."
      ],
      "metadata": {
        "_uuid": "e5e2d1a4-d21b-4e86-b0eb-4ebcabf8bf90",
        "_cell_guid": "c3ce638f-4e89-44c8-9e7c-88ea6b2b2c66",
        "trusted": true,
        "id": "hezCvRoGN2pt"
      }
    },
    {
      "cell_type": "code",
      "source": [
        "# Creating the 20 models\n",
        "min_samples_splits = [50 + i*50 for i in range(10)] + [500 + i*500 for i in range(10)]\n",
        "models_min_samples_splits = [RandomForestRegressor(min_samples_split = min_samples_splits[i], random_state = 42) for i in range(20)]\n",
        "\n",
        "min_samples_splits_rmses = []\n",
        "\n",
        "# Fitting the models and making predictions\n",
        "for model in models_min_samples_splits:                   \n",
        "    model.fit(X_train, y_train)\n",
        "    predictions = model.predict(X_test)\n",
        "    rmse = get_rmse(y_test, predictions)\n",
        "    min_samples_splits_rmses += [rmse]\n",
        "    print(f\"RMSE of model with min_samples_split={model.min_samples_split}: {rmse:.5f}\")\n",
        "\n",
        "# Plotting the RMSEs\n",
        "plt.plot(min_samples_splits, min_samples_splits_rmses)\n",
        "plt.title(\"17. RMSE vs min_samples_split\")\n",
        "plt.xlabel(\"min_samples_split\")\n",
        "plt.ylabel(\"rmse\")\n",
        "plt.show()"
      ],
      "metadata": {
        "_uuid": "2663915a-d429-4639-b448-ad183c53c389",
        "_cell_guid": "26a99ede-e7eb-4428-a0d5-eb90a7135f08",
        "jupyter": {
          "outputs_hidden": false
        },
        "execution": {
          "iopub.status.busy": "2022-02-22T19:38:25.098205Z",
          "iopub.execute_input": "2022-02-22T19:38:25.098743Z",
          "iopub.status.idle": "2022-02-22T19:38:41.489404Z",
          "shell.execute_reply.started": "2022-02-22T19:38:25.098692Z",
          "shell.execute_reply": "2022-02-22T19:38:41.488599Z"
        },
        "trusted": true,
        "id": "gFWF7PedN2pt",
        "colab": {
          "base_uri": "https://localhost:8080/",
          "height": 755
        },
        "outputId": "61f8db5e-480f-43ff-8e57-3f858efdc650"
      },
      "execution_count": null,
      "outputs": [
        {
          "output_type": "stream",
          "name": "stdout",
          "text": [
            "RMSE of model with min_samples_split=50: 0.11314\n",
            "RMSE of model with min_samples_split=100: 0.11547\n",
            "RMSE of model with min_samples_split=150: 0.11699\n",
            "RMSE of model with min_samples_split=200: 0.11825\n",
            "RMSE of model with min_samples_split=250: 0.11909\n",
            "RMSE of model with min_samples_split=300: 0.11979\n",
            "RMSE of model with min_samples_split=350: 0.12038\n",
            "RMSE of model with min_samples_split=400: 0.12097\n",
            "RMSE of model with min_samples_split=450: 0.12150\n",
            "RMSE of model with min_samples_split=500: 0.12196\n",
            "RMSE of model with min_samples_split=500: 0.12196\n",
            "RMSE of model with min_samples_split=1000: 0.12459\n",
            "RMSE of model with min_samples_split=1500: 0.12820\n",
            "RMSE of model with min_samples_split=2000: 0.12927\n",
            "RMSE of model with min_samples_split=2500: 0.13172\n",
            "RMSE of model with min_samples_split=3000: 0.13179\n",
            "RMSE of model with min_samples_split=3500: 0.14838\n",
            "RMSE of model with min_samples_split=4000: 0.14838\n",
            "RMSE of model with min_samples_split=4500: 0.14838\n",
            "RMSE of model with min_samples_split=5000: 0.14838\n"
          ]
        },
        {
          "output_type": "display_data",
          "data": {
            "text/plain": [
              "<Figure size 576x432 with 1 Axes>"
            ],
            "image/png": "[encoded data removed]"
          },
          "metadata": {}
        }
      ]
    },
    {
      "cell_type": "markdown",
      "source": [
        "### Experiment 4: max_leaf_nodes"
      ],
      "metadata": {
        "_uuid": "c45f636f-62a7-4c77-a3d5-71f4ce19b086",
        "_cell_guid": "0d095c7a-ef5a-43ac-8b14-53722941c949",
        "trusted": true,
        "id": "mytN0ZD9N2pt"
      }
    },
    {
      "cell_type": "code",
      "source": [
        "# Creating the 10 models\n",
        "max_leaf_nodes = [200 + i*200 for i in range(10)]\n",
        "models_max_leaf_nodes = [RandomForestRegressor(max_leaf_nodes = max_leaf_nodes[i], random_state = 42) for i in range(10)]\n",
        "\n",
        "max_leaf_nodes_rmses = []\n",
        "\n",
        "# Fitting the models and making predictions\n",
        "for model in models_max_leaf_nodes:                   \n",
        "    model.fit(X_train, y_train)\n",
        "    predictions = model.predict(X_test)\n",
        "    rmse = get_rmse(y_test, predictions)\n",
        "    max_leaf_nodes_rmses += [rmse]\n",
        "    print(f\"RMSE of model with max_leaf_nodes={model.max_leaf_nodes}: {rmse:.5f}\")\n",
        "\n",
        "# Plotting the RMSEs\n",
        "plt.plot(max_leaf_nodes, max_leaf_nodes_rmses)\n",
        "plt.title(\"18. RMSE vs max_leaf_nodes\")\n",
        "plt.xlabel(\"max_leaf_nodes\")\n",
        "plt.ylabel(\"rmse\")\n",
        "plt.show()"
      ],
      "metadata": {
        "_uuid": "6e97dd2d-975c-4fd3-b221-b2d656d7c81f",
        "_cell_guid": "7cd0263f-026b-4d61-95f1-36fc30a7190e",
        "jupyter": {
          "outputs_hidden": false
        },
        "execution": {
          "iopub.status.busy": "2022-02-22T19:38:41.490701Z",
          "iopub.execute_input": "2022-02-22T19:38:41.490926Z",
          "iopub.status.idle": "2022-02-22T19:39:07.346209Z",
          "shell.execute_reply.started": "2022-02-22T19:38:41.490896Z",
          "shell.execute_reply": "2022-02-22T19:39:07.345063Z"
        },
        "trusted": true,
        "id": "DyuPibIzN2pu",
        "colab": {
          "base_uri": "https://localhost:8080/",
          "height": 582
        },
        "outputId": "bda74752-382c-4bf5-fb49-cffa6897329c"
      },
      "execution_count": null,
      "outputs": [
        {
          "output_type": "stream",
          "name": "stdout",
          "text": [
            "RMSE of model with max_leaf_nodes=200: 0.11172\n",
            "RMSE of model with max_leaf_nodes=400: 0.10867\n",
            "RMSE of model with max_leaf_nodes=600: 0.10694\n",
            "RMSE of model with max_leaf_nodes=800: 0.10562\n",
            "RMSE of model with max_leaf_nodes=1000: 0.10499\n",
            "RMSE of model with max_leaf_nodes=1200: 0.10497\n",
            "RMSE of model with max_leaf_nodes=1400: 0.10497\n",
            "RMSE of model with max_leaf_nodes=1600: 0.10497\n",
            "RMSE of model with max_leaf_nodes=1800: 0.10497\n",
            "RMSE of model with max_leaf_nodes=2000: 0.10497\n"
          ]
        },
        {
          "output_type": "display_data",
          "data": {
            "text/plain": [
              "<Figure size 576x432 with 1 Axes>"
            ],
            "image/png": "[encoded data removed]"
          },
          "metadata": {}
        }
      ]
    },
    {
      "cell_type": "markdown",
      "source": [
        "### Experiment 5: \"min_samples_leaf\"\n",
        "В этом эксперименте вместо создания 10 моделей мы создадим 20 моделей для повышения точности."
      ],
      "metadata": {
        "_uuid": "d2662a41-1fe7-4ae1-ba54-d4889faa125b",
        "_cell_guid": "19c76fd2-34ac-4396-88e8-1343c62e4fff",
        "trusted": true,
        "id": "LBY75w9NN2pu"
      }
    },
    {
      "cell_type": "code",
      "source": [
        "# Creating the 20 models\n",
        "min_samples_leaves =  [25 + i*25 for i in range (10)] + [250 + i*250 for i in range(10)]\n",
        "models_min_samples_leaves = [RandomForestRegressor(min_samples_leaf = min_samples_leaves[i], random_state = 42) for i in range(20)]\n",
        "\n",
        "min_samples_leaves_rmses = []\n",
        "\n",
        "# Fitting the models and making predictions\n",
        "for model in models_min_samples_leaves:                   \n",
        "    model.fit(X_train, y_train)\n",
        "    predictions = model.predict(X_test)\n",
        "    rmse = get_rmse(y_test, predictions)\n",
        "    min_samples_leaves_rmses += [rmse]\n",
        "    print(f\"RMSE of model with min_samples_leaf={model.min_samples_leaf}: {rmse:.5f}\")\n",
        "\n",
        "# Plotting the RMSEs\n",
        "plt.plot(min_samples_leaves, min_samples_leaves_rmses)\n",
        "plt.title(\"19. RMSE vs min_samples_leaf\")\n",
        "plt.xlabel(\"min_samples_leaf\")\n",
        "plt.ylabel(\"rmse\")\n",
        "plt.show()"
      ],
      "metadata": {
        "_uuid": "bcd97380-0389-46ff-bafc-be508591328c",
        "_cell_guid": "2d2e8dd5-92ac-49c6-bdcd-222f15ebe770",
        "jupyter": {
          "outputs_hidden": false
        },
        "execution": {
          "iopub.status.busy": "2022-02-22T19:39:07.348015Z",
          "iopub.execute_input": "2022-02-22T19:39:07.34857Z",
          "iopub.status.idle": "2022-02-22T19:39:21.079583Z",
          "shell.execute_reply.started": "2022-02-22T19:39:07.348502Z",
          "shell.execute_reply": "2022-02-22T19:39:21.078464Z"
        },
        "trusted": true,
        "id": "rBtjIBmjN2pu",
        "colab": {
          "base_uri": "https://localhost:8080/",
          "height": 755
        },
        "outputId": "24f49afc-9410-4605-bf07-a5f9e56afc2e"
      },
      "execution_count": null,
      "outputs": [
        {
          "output_type": "stream",
          "name": "stdout",
          "text": [
            "RMSE of model with min_samples_leaf=25: 0.11514\n",
            "RMSE of model with min_samples_leaf=50: 0.11717\n",
            "RMSE of model with min_samples_leaf=75: 0.11864\n",
            "RMSE of model with min_samples_leaf=100: 0.11974\n",
            "RMSE of model with min_samples_leaf=125: 0.12069\n",
            "RMSE of model with min_samples_leaf=150: 0.12144\n",
            "RMSE of model with min_samples_leaf=175: 0.12194\n",
            "RMSE of model with min_samples_leaf=200: 0.12265\n",
            "RMSE of model with min_samples_leaf=225: 0.12312\n",
            "RMSE of model with min_samples_leaf=250: 0.12339\n",
            "RMSE of model with min_samples_leaf=250: 0.12339\n",
            "RMSE of model with min_samples_leaf=500: 0.12487\n",
            "RMSE of model with min_samples_leaf=750: 0.12882\n",
            "RMSE of model with min_samples_leaf=1000: 0.13016\n",
            "RMSE of model with min_samples_leaf=1250: 0.13278\n",
            "RMSE of model with min_samples_leaf=1500: 0.13348\n",
            "RMSE of model with min_samples_leaf=1750: 0.14838\n",
            "RMSE of model with min_samples_leaf=2000: 0.14838\n",
            "RMSE of model with min_samples_leaf=2250: 0.14838\n",
            "RMSE of model with min_samples_leaf=2500: 0.14838\n"
          ]
        },
        {
          "output_type": "display_data",
          "data": {
            "text/plain": [
              "<Figure size 576x432 with 1 Axes>"
            ],
            "image/png": "[encoded data removed]"
          },
          "metadata": {}
        }
      ]
    },
    {
      "cell_type": "markdown",
      "source": [
        "### Experiment #6: \"max_samples\""
      ],
      "metadata": {
        "_uuid": "3a41077c-5429-425b-bb40-69389f31382b",
        "_cell_guid": "97f850bc-29f8-4f9a-9945-ce76a81bcc74",
        "trusted": true,
        "id": "3Y2Ajy2DN2pv"
      }
    },
    {
      "cell_type": "code",
      "source": [
        "# Creating the 20 models\n",
        "max_samples =  [0.05 + i*0.049 for i in range(20)]\n",
        "models_max_samples = [RandomForestRegressor(max_samples = max_samples[i], random_state = 42) for i in range(20)]\n",
        "\n",
        "max_samples_rmses = []\n",
        "\n",
        "# Fitting the models and making predictions\n",
        "for model in models_max_samples:                   \n",
        "    model.fit(X_train, y_train)\n",
        "    predictions = model.predict(X_test)\n",
        "    rmse = get_rmse(y_test, predictions)\n",
        "    max_samples_rmses += [rmse]\n",
        "    print(f\"RMSE of model with max_samples={model.max_samples}: {rmse:.5f}\")\n",
        "\n",
        "# Plotting the RMSEs\n",
        "plt.plot(max_samples, max_samples_rmses)\n",
        "plt.title(\"20. RMSE vs max_samples\")\n",
        "plt.xlabel(\"max_samples\")\n",
        "plt.ylabel(\"rmse\")\n",
        "plt.show()"
      ],
      "metadata": {
        "_uuid": "d31dca94-e823-434a-9296-970cfc583c9d",
        "_cell_guid": "3aa94766-5803-45d4-899b-966bf351923e",
        "jupyter": {
          "outputs_hidden": false
        },
        "execution": {
          "iopub.status.busy": "2022-02-22T19:39:21.080924Z",
          "iopub.execute_input": "2022-02-22T19:39:21.081187Z",
          "iopub.status.idle": "2022-02-22T19:39:54.23138Z",
          "shell.execute_reply.started": "2022-02-22T19:39:21.081153Z",
          "shell.execute_reply": "2022-02-22T19:39:54.2303Z"
        },
        "trusted": true,
        "id": "UCDuDL1TN2pv",
        "colab": {
          "base_uri": "https://localhost:8080/",
          "height": 755
        },
        "outputId": "5934614c-baff-42ce-bde4-b79e013fbab4"
      },
      "execution_count": null,
      "outputs": [
        {
          "output_type": "stream",
          "name": "stdout",
          "text": [
            "RMSE of model with max_samples=0.05: 0.11707\n",
            "RMSE of model with max_samples=0.099: 0.11406\n",
            "RMSE of model with max_samples=0.14800000000000002: 0.11351\n",
            "RMSE of model with max_samples=0.197: 0.11191\n",
            "RMSE of model with max_samples=0.246: 0.11037\n",
            "RMSE of model with max_samples=0.295: 0.10992\n",
            "RMSE of model with max_samples=0.34400000000000003: 0.10932\n",
            "RMSE of model with max_samples=0.393: 0.10854\n",
            "RMSE of model with max_samples=0.442: 0.10848\n",
            "RMSE of model with max_samples=0.491: 0.10851\n",
            "RMSE of model with max_samples=0.54: 0.10731\n",
            "RMSE of model with max_samples=0.5890000000000001: 0.10769\n",
            "RMSE of model with max_samples=0.6380000000000001: 0.10687\n",
            "RMSE of model with max_samples=0.687: 0.10649\n",
            "RMSE of model with max_samples=0.7360000000000001: 0.10559\n",
            "RMSE of model with max_samples=0.785: 0.10627\n",
            "RMSE of model with max_samples=0.8340000000000001: 0.10584\n",
            "RMSE of model with max_samples=0.8830000000000001: 0.10530\n",
            "RMSE of model with max_samples=0.932: 0.10544\n",
            "RMSE of model with max_samples=0.9810000000000001: 0.10511\n"
          ]
        },
        {
          "output_type": "display_data",
          "data": {
            "text/plain": [
              "<Figure size 576x432 with 1 Axes>"
            ],
            "image/png": "[encoded data removed]"
          },
          "metadata": {}
        }
      ]
    },
    {
      "cell_type": "markdown",
      "source": [
        "В соответствии с приведенными выше результатами мы построим окончательную модель с параметрами, которые дали нам наилучшие результаты. Судя по приведенному выше графику, лучшими параметрами являются:"
      ],
      "metadata": {
        "_uuid": "bbb5e094-c012-446f-8db3-686dc4f81483",
        "_cell_guid": "6ccac461-da40-4d12-ab2a-bbc22867aba2",
        "trusted": true,
        "id": "IeEGrBI1N2pv"
      }
    },
    {
      "cell_type": "code",
      "source": [
        "best_n_estimators = 450\n",
        "best_max_depth = 20\n",
        "best_min_samples_split = 2\n",
        "best_max_leaf_nodes = 1000\n",
        "best_min_samples_leaf = 1\n",
        "best_max_samples = 0.9810000000000001\n",
        "\n",
        "print(f\"Best n_estimators: {best_n_estimators}\\nBest max_depth: {best_max_depth}\\nBest min_samples_split: {best_min_samples_split}\\nBest max_leaf_nodes: {best_max_leaf_nodes}\\nBest min_samples_leaf: {best_min_samples_leaf}\\nBest max_samples: {best_max_samples}\")"
      ],
      "metadata": {
        "_uuid": "1a91470c-7146-4b25-87a2-b6a07267a2a6",
        "_cell_guid": "c84ff76c-0ff7-46a1-af48-cb5d172e6ffa",
        "jupyter": {
          "outputs_hidden": false
        },
        "execution": {
          "iopub.status.busy": "2022-02-22T19:39:54.2325Z",
          "iopub.execute_input": "2022-02-22T19:39:54.23274Z",
          "iopub.status.idle": "2022-02-22T19:39:54.239996Z",
          "shell.execute_reply.started": "2022-02-22T19:39:54.23271Z",
          "shell.execute_reply": "2022-02-22T19:39:54.239016Z"
        },
        "trusted": true,
        "id": "oPOBNJxFN2pv",
        "colab": {
          "base_uri": "https://localhost:8080/"
        },
        "outputId": "4deec474-badd-45c7-e8d5-2990e8b26999"
      },
      "execution_count": null,
      "outputs": [
        {
          "output_type": "stream",
          "name": "stdout",
          "text": [
            "Best n_estimators: 450\n",
            "Best max_depth: 20\n",
            "Best min_samples_split: 2\n",
            "Best max_leaf_nodes: 1000\n",
            "Best min_samples_leaf: 1\n",
            "Best max_samples: 0.9810000000000001\n"
          ]
        }
      ]
    },
    {
      "cell_type": "markdown",
      "source": [
        "## 5.2 Разработка и обучение оптимизированной модели на основе GridSearchCV"
      ],
      "metadata": {
        "_uuid": "b2cccd75-41b4-4962-98e4-f94c8505db6c",
        "_cell_guid": "53af4214-f589-4286-a3e1-117466dab455",
        "trusted": true,
        "id": "V6SI-AoeN2pw"
      }
    },
    {
      "cell_type": "markdown",
      "source": [
        "Далее проверим найденные оптимальные параметры с помощью алгоритма GridSearchCV. В соответствии с общим диапазоном каждого параметра, который мы проверили, мы соответственно выбрали 3 разных параметра."
      ],
      "metadata": {
        "_uuid": "40972661-a62d-45a7-8b9f-fbbc5ab53351",
        "_cell_guid": "ef6f3eb6-0fd5-4210-b23e-ae2b996fec0b",
        "trusted": true,
        "id": "MPzC1le9N2pw"
      }
    },
    {
      "cell_type": "code",
      "source": [
        "# Defining the optional values for each parameter\n",
        "param_grid = {'n_estimators': [100, 300, 500],\n",
        "              'max_depth': [20, 30, 40],\n",
        "              'min_samples_split': [2, 500, 1000],\n",
        "              'max_leaf_nodes': [333, 666, 1000],\n",
        "              'min_samples_leaf': [1, 50, 100],\n",
        "              'max_samples': [0.33,0.66,0.9810000000000001]}\n",
        "\n",
        "# Using the GridSearchCV algorithm\n",
        "best_model = model_selection.GridSearchCV(estimator = RandomForestRegressor(),\n",
        "                                          param_grid = param_grid,\n",
        "                                          scoring = 'neg_root_mean_squared_error',\n",
        "                                          verbose=0,\n",
        "                                          n_jobs=-1,\n",
        "                                          cv=5)\n",
        "\n",
        "best_model.fit(X_train, y_train)"
      ],
      "metadata": {
        "_uuid": "0087f7ea-2694-4a23-a352-0da2a3259e1b",
        "_cell_guid": "8bf6b5d2-5962-4889-9e42-4e3fdd4d3cfe",
        "jupyter": {
          "outputs_hidden": false
        },
        "execution": {
          "iopub.status.busy": "2022-02-22T19:39:54.241428Z",
          "iopub.execute_input": "2022-02-22T19:39:54.24168Z",
          "iopub.status.idle": "2022-02-22T20:21:26.956874Z",
          "shell.execute_reply.started": "2022-02-22T19:39:54.241649Z",
          "shell.execute_reply": "2022-02-22T20:21:26.955434Z"
        },
        "trusted": true,
        "id": "22FrdaZfN2pw",
        "colab": {
          "base_uri": "https://localhost:8080/"
        },
        "outputId": "cfbc1393-85ec-4397-f943-731c24743cc5"
      },
      "execution_count": null,
      "outputs": [
        {
          "output_type": "execute_result",
          "data": {
            "text/plain": [
              "GridSearchCV(cv=5, estimator=RandomForestRegressor(), n_jobs=-1,\n",
              "             param_grid={'max_depth': [20, 30, 40],\n",
              "                         'max_leaf_nodes': [333, 666, 1000],\n",
              "                         'max_samples': [0.33, 0.66, 0.9810000000000001],\n",
              "                         'min_samples_leaf': [1, 50, 100],\n",
              "                         'min_samples_split': [2, 500, 1000],\n",
              "                         'n_estimators': [100, 300, 500]},\n",
              "             scoring='neg_root_mean_squared_error')"
            ]
          },
          "metadata": {},
          "execution_count": 38
        }
      ]
    },
    {
      "cell_type": "markdown",
      "source": [
        "Теперь покажем результат работы алгоритма GridSearchCV, и увидим, какой параметр выбрать для моделирования"
      ],
      "metadata": {
        "_uuid": "43c90800-6dbc-4a1d-aadc-c3bd6983f9a4",
        "_cell_guid": "27a0e2af-85b8-4c49-a22f-ce9095e8aa2d",
        "trusted": true,
        "id": "Mq_F-ySiN2px"
      }
    },
    {
      "cell_type": "code",
      "source": [
        "from pprint import pprint"
      ],
      "metadata": {
        "id": "zWBpD4tT-y3I"
      },
      "execution_count": null,
      "outputs": []
    },
    {
      "cell_type": "code",
      "source": [
        "# Extracting the best parameters the algorithm has found\n",
        "params = best_model.get_params()\n",
        "pprint(params)"
      ],
      "metadata": {
        "_uuid": "e9eb1ebb-81f4-4ef5-907f-0c0d45cabaa5",
        "_cell_guid": "491eb677-ee46-44f7-ada7-5aaf0ef6342a",
        "jupyter": {
          "outputs_hidden": false
        },
        "execution": {
          "iopub.status.busy": "2022-02-22T20:21:26.959586Z",
          "iopub.execute_input": "2022-02-22T20:21:26.959882Z",
          "iopub.status.idle": "2022-02-22T20:21:26.978697Z",
          "shell.execute_reply.started": "2022-02-22T20:21:26.959848Z",
          "shell.execute_reply": "2022-02-22T20:21:26.969282Z"
        },
        "trusted": true,
        "id": "B0my37G2N2px",
        "colab": {
          "base_uri": "https://localhost:8080/"
        },
        "outputId": "424445b9-86ca-4b21-e1b0-6f3558b74b36"
      },
      "execution_count": null,
      "outputs": [
        {
          "output_type": "stream",
          "name": "stdout",
          "text": [
            "{'cv': 5,\n",
            " 'error_score': nan,\n",
            " 'estimator': RandomForestRegressor(),\n",
            " 'estimator__bootstrap': True,\n",
            " 'estimator__ccp_alpha': 0.0,\n",
            " 'estimator__criterion': 'squared_error',\n",
            " 'estimator__max_depth': None,\n",
            " 'estimator__max_features': 'auto',\n",
            " 'estimator__max_leaf_nodes': None,\n",
            " 'estimator__max_samples': None,\n",
            " 'estimator__min_impurity_decrease': 0.0,\n",
            " 'estimator__min_samples_leaf': 1,\n",
            " 'estimator__min_samples_split': 2,\n",
            " 'estimator__min_weight_fraction_leaf': 0.0,\n",
            " 'estimator__n_estimators': 100,\n",
            " 'estimator__n_jobs': None,\n",
            " 'estimator__oob_score': False,\n",
            " 'estimator__random_state': None,\n",
            " 'estimator__verbose': 0,\n",
            " 'estimator__warm_start': False,\n",
            " 'n_jobs': -1,\n",
            " 'param_grid': {'max_depth': [20, 30, 40],\n",
            "                'max_leaf_nodes': [333, 666, 1000],\n",
            "                'max_samples': [0.33, 0.66, 0.9810000000000001],\n",
            "                'min_samples_leaf': [1, 50, 100],\n",
            "                'min_samples_split': [2, 500, 1000],\n",
            "                'n_estimators': [100, 300, 500]},\n",
            " 'pre_dispatch': '2*n_jobs',\n",
            " 'refit': True,\n",
            " 'return_train_score': False,\n",
            " 'scoring': 'neg_root_mean_squared_error',\n",
            " 'verbose': 0}\n"
          ]
        }
      ]
    },
    {
      "cell_type": "markdown",
      "source": [
        "### 6. Создание двух окончательных моделей и их сравнение друг с другом"
      ],
      "metadata": {
        "_uuid": "c09251f5-2315-4f00-ae75-7f10a0e1797c",
        "_cell_guid": "a0c02944-6ffa-47d5-93be-1aaa09968ce3",
        "trusted": true,
        "id": "Reug2OW4N2px"
      }
    },
    {
      "cell_type": "markdown",
      "source": [
        "Для сравнения мы запустим агоритм RandomForest для модели, которую мы выбрали для создания, и для модели, которую мы создали в соответствии с алгоритмом GridSearch, и посмотрим на различия, если они есть. *Наша проверка будет проводиться в соответствии с критерием оптимальности - RMSE"
      ],
      "metadata": {
        "_uuid": "bd203b33-601a-41ee-95ba-ef29916d0910",
        "_cell_guid": "19267ab1-0a64-4b46-b3aa-8fd29d9e2b16",
        "trusted": true,
        "id": "Yuob7QykN2px"
      }
    },
    {
      "cell_type": "code",
      "source": [
        "#Running Random Forest Algorithm with the best \n",
        "#parameters, according to the RMSE's graphs we've\n",
        "#created only\n",
        "best_model = RandomForestRegressor(max_depth= 40,\n",
        " max_leaf_nodes= 1000,\n",
        " max_samples= 0.9810000000000001,\n",
        " min_samples_leaf= 1,\n",
        " min_samples_split= 2,\n",
        " n_estimators= 450,\n",
        " random_state= 42)\n",
        "\n",
        "best_model.fit(X_train, y_train)\n",
        "best_predictions = best_model.predict(X_test)\n",
        "best_rmse_model1 = get_rmse(y_test, best_predictions)\n",
        "print(f\"RMSE of the optimized model according to our manual check: {best_rmse_model1:.5f}\")\n",
        "\n",
        "\n",
        "# Running Random Forest Algorithm with the best \n",
        "# parameters,recommended by the GridSearch algorithm\n",
        "best_model = RandomForestRegressor(bootstrap= True,\n",
        " ccp_alpha= 0.0,\n",
        " criterion='mse',\n",
        " max_depth=None,\n",
        " max_features='auto',\n",
        " max_leaf_nodes= None,\n",
        " max_samples= None,\n",
        " min_impurity_decrease= 0.0,\n",
        " min_samples_leaf= 1,\n",
        " min_samples_split= 2,\n",
        " min_weight_fraction_leaf= 0.0,\n",
        " n_estimators= 100,\n",
        " n_jobs= None,\n",
        " oob_score= False,\n",
        " random_state= 42,\n",
        " verbose =0,\n",
        " warm_start =False)\n",
        "\n",
        "best_model.fit(X_train, y_train)\n",
        "best_predictions_grid = best_model.predict(X_test)\n",
        "best_rmse_model2 = get_rmse(y_test, best_predictions_grid)\n",
        "print(f\"RMSE of the optimized model according to GridSearchCV algorithm: {best_rmse_model2:.5f}\")"
      ],
      "metadata": {
        "_uuid": "ac41ddab-60d9-4855-bca3-940f53f76a29",
        "_cell_guid": "03181c37-b21b-417c-90f1-c0d327045f93",
        "jupyter": {
          "outputs_hidden": false
        },
        "execution": {
          "iopub.status.busy": "2022-02-22T21:54:54.237346Z",
          "iopub.execute_input": "2022-02-22T21:54:54.237651Z",
          "iopub.status.idle": "2022-02-22T21:54:54.332673Z",
          "shell.execute_reply.started": "2022-02-22T21:54:54.237563Z",
          "shell.execute_reply": "2022-02-22T21:54:54.331487Z"
        },
        "trusted": true,
        "id": "0_qab4Y1N2px",
        "colab": {
          "base_uri": "https://localhost:8080/"
        },
        "outputId": "bc85a24d-5e77-4168-bbee-255620bf27c1"
      },
      "execution_count": null,
      "outputs": [
        {
          "output_type": "stream",
          "name": "stdout",
          "text": [
            "RMSE of the optimized model according to our manual check: 0.10452\n"
          ]
        },
        {
          "output_type": "stream",
          "name": "stderr",
          "text": [
            "/usr/local/lib/python3.7/dist-packages/sklearn/ensemble/_forest.py:400: FutureWarning: Criterion 'mse' was deprecated in v1.0 and will be removed in version 1.2. Use `criterion='squared_error'` which is equivalent.\n",
            "  FutureWarning,\n"
          ]
        },
        {
          "output_type": "stream",
          "name": "stdout",
          "text": [
            "RMSE of the optimized model according to GridSearchCV algorithm: 0.10542\n"
          ]
        }
      ]
    },
    {
      "cell_type": "markdown",
      "source": [
        "### 7. Вывод из набора \"скоров\" моделей"
      ],
      "metadata": {
        "_uuid": "a6b8af15-06a9-49e1-94c5-ebd41f7a4a23",
        "_cell_guid": "7f716ae2-ab7b-4da8-af2a-86f02577e1a5",
        "trusted": true,
        "id": "-7vBewDPN2py"
      }
    },
    {
      "cell_type": "markdown",
      "source": [
        "Оценим нашу модель, используя расчет oob_score, и посмотрим, насколько она хороша."
      ],
      "metadata": {
        "_uuid": "8d778092-42d5-495a-855f-794a2ba512a0",
        "_cell_guid": "01ba1796-d5de-4b30-b950-df83a918bcf8",
        "trusted": true,
        "id": "0VJOlqZdN2pz"
      }
    },
    {
      "cell_type": "code",
      "source": [
        "accuracy = best_model.score(X_train, y_train)\n",
        "accuracy_test = best_model.score(X_test, best_predictions)\n",
        "\n",
        "print('Accuracy for Random Forest using the train set',100*accuracy)\n",
        "print('Accuracy for Random Forest using the test set',100*accuracy_test)\n",
        "\n",
        "\n",
        "\n",
        "\n"
      ],
      "metadata": {
        "_uuid": "b705c142-37f8-4f81-9434-18a80e88e517",
        "_cell_guid": "6813fa2e-494d-4cef-a061-ff94aa02f09a",
        "jupyter": {
          "outputs_hidden": false
        },
        "execution": {
          "iopub.status.busy": "2022-02-22T20:21:38.921724Z",
          "iopub.status.idle": "2022-02-22T20:21:38.922071Z",
          "shell.execute_reply.started": "2022-02-22T20:21:38.921893Z",
          "shell.execute_reply": "2022-02-22T20:21:38.921912Z"
        },
        "trusted": true,
        "id": "AaGhvYcaN2pz",
        "colab": {
          "base_uri": "https://localhost:8080/"
        },
        "outputId": "077f3a55-0ec2-4a38-c04a-e38ba58b72c2"
      },
      "execution_count": null,
      "outputs": [
        {
          "output_type": "stream",
          "name": "stdout",
          "text": [
            "Accuracy for Random Forest using the train set 93.18934512377133\n",
            "Accuracy for Random Forest using the test set 98.68975891109632\n"
          ]
        }
      ]
    },
    {
      "cell_type": "markdown",
      "source": [
        "### Оценка результатов данных (после проверки)"
      ],
      "metadata": {
        "id": "th_PT5hFN2pz"
      }
    },
    {
      "cell_type": "code",
      "source": [
        "accuracy_model1 = (1 - best_rmse_model1)\n",
        "accuracy_model2 = (1 - best_rmse_model2)\n",
        "\n",
        "print('Accuracy according to RMSE for Random Forest',100*accuracy_model1)\n",
        "print('Accuracy according to RMSE for Random Forest using the results of GridSearchCV',100*accuracy_model2)"
      ],
      "metadata": {
        "execution": {
          "iopub.status.busy": "2022-02-22T20:21:38.923012Z",
          "iopub.status.idle": "2022-02-22T20:21:38.923343Z",
          "shell.execute_reply.started": "2022-02-22T20:21:38.923159Z",
          "shell.execute_reply": "2022-02-22T20:21:38.923177Z"
        },
        "trusted": true,
        "id": "UdJj0BsZN2pz",
        "colab": {
          "base_uri": "https://localhost:8080/"
        },
        "outputId": "e688f181-73e8-4145-e75d-6a6c765b5daa"
      },
      "execution_count": null,
      "outputs": [
        {
          "output_type": "stream",
          "name": "stdout",
          "text": [
            "Accuracy according to RMSE for Random Forest 89.54798685264807\n",
            "Accuracy according to RMSE for Random Forest using the results of GridSearchCV 89.4579790575403\n"
          ]
        }
      ]
    },
    {
      "cell_type": "markdown",
      "source": [
        "### Таким образом, точность первой модели немного больше, чем второй"
      ],
      "metadata": {
        "id": "6WgUXWxCVro6"
      }
    }
  ]
}